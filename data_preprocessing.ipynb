{
 "cells": [
  {
   "cell_type": "code",
   "execution_count": 48,
   "metadata": {},
   "outputs": [],
   "source": [
    "import os\n",
    "import numpy as np\n",
    "import pandas as pd \n",
    "import matplotlib.pyplot as plt\n",
    "import seaborn as sns\n",
    "import random\n",
    "import re\n",
    "import pickle\n",
    "\n",
    "from sklearn.preprocessing import StandardScaler\n",
    "from sklearn.model_selection import train_test_split\n",
    "from sklearn.linear_model import LinearRegression\n",
    "from keras.models import Sequential\n",
    "from keras.layers import Dense, Activation, Flatten, Dropout\n",
    "from keras.callbacks import ModelCheckpoint, EarlyStopping\n",
    "from keras import optimizers, initializers\n",
    "from tensorflow import set_random_seed\n",
    "\n",
    "pd.set_option('display.max_columns', 500)\n",
    "# set off this warning: A value is trying to be set on a copy of a slice from a DataFrame\n",
    "pd.set_option('mode.chained_assignment', None)"
   ]
  },
  {
   "cell_type": "code",
   "execution_count": 49,
   "metadata": {},
   "outputs": [],
   "source": [
    "path_abs = os.path.abspath('.')\n",
    "path = path_abs + '/data/'"
   ]
  },
  {
   "cell_type": "code",
   "execution_count": 50,
   "metadata": {},
   "outputs": [
    {
     "name": "stderr",
     "output_type": "stream",
     "text": [
      "/Users/matthies/anaconda3/envs/ai/lib/python3.7/site-packages/IPython/core/interactiveshell.py:3049: DtypeWarning: Columns (16) have mixed types. Specify dtype option on import or set low_memory=False.\n",
      "  interactivity=interactivity, compiler=compiler, result=result)\n"
     ]
    }
   ],
   "source": [
    "df_dataset_raw = pd.read_csv(path+'final_dataset.csv')"
   ]
  },
  {
   "cell_type": "code",
   "execution_count": 51,
   "metadata": {},
   "outputs": [
    {
     "name": "stdout",
     "output_type": "stream",
     "text": [
      "Shape df_dataset_raw: (90686, 94)\n"
     ]
    },
    {
     "data": {
      "text/html": [
       "<div>\n",
       "<style scoped>\n",
       "    .dataframe tbody tr th:only-of-type {\n",
       "        vertical-align: middle;\n",
       "    }\n",
       "\n",
       "    .dataframe tbody tr th {\n",
       "        vertical-align: top;\n",
       "    }\n",
       "\n",
       "    .dataframe thead th {\n",
       "        text-align: right;\n",
       "    }\n",
       "</style>\n",
       "<table border=\"1\" class=\"dataframe\">\n",
       "  <thead>\n",
       "    <tr style=\"text-align: right;\">\n",
       "      <th></th>\n",
       "      <th>scoutId</th>\n",
       "      <th>URL</th>\n",
       "      <th>Timestamp</th>\n",
       "      <th>Schluessel</th>\n",
       "      <th>beschreibung</th>\n",
       "      <th>requirements</th>\n",
       "      <th>group</th>\n",
       "      <th>historicallisting</th>\n",
       "      <th>virtualreality</th>\n",
       "      <th>shown</th>\n",
       "      <th>ads</th>\n",
       "      <th>via</th>\n",
       "      <th>qualified</th>\n",
       "      <th>bln</th>\n",
       "      <th>krs</th>\n",
       "      <th>land</th>\n",
       "      <th>ExclusiveExpose</th>\n",
       "      <th>barrierFree</th>\n",
       "      <th>buildingType</th>\n",
       "      <th>cId</th>\n",
       "      <th>cellar</th>\n",
       "      <th>condition</th>\n",
       "      <th>constructionPhase</th>\n",
       "      <th>courtage</th>\n",
       "      <th>cwId</th>\n",
       "      <th>energyEfficiencyClass</th>\n",
       "      <th>energyType</th>\n",
       "      <th>firingTypes</th>\n",
       "      <th>galleryAd</th>\n",
       "      <th>groupnumber</th>\n",
       "      <th>heatingType</th>\n",
       "      <th>houseNumber</th>\n",
       "      <th>immotype</th>\n",
       "      <th>interiorQual</th>\n",
       "      <th>international</th>\n",
       "      <th>ityp</th>\n",
       "      <th>lastRefurbish</th>\n",
       "      <th>livingSpace</th>\n",
       "      <th>livingSpaceRange</th>\n",
       "      <th>lotArea</th>\n",
       "      <th>newlyConst</th>\n",
       "      <th>noParkSpaces</th>\n",
       "      <th>noRooms</th>\n",
       "      <th>noRoomsRange</th>\n",
       "      <th>numberOfFloors</th>\n",
       "      <th>objectnumber</th>\n",
       "      <th>picture</th>\n",
       "      <th>picturecount</th>\n",
       "      <th>plotAreaRange</th>\n",
       "      <th>pricetrend</th>\n",
       "      <th>pricetrendbuy</th>\n",
       "      <th>pricetrendrent</th>\n",
       "      <th>id</th>\n",
       "      <th>purchasePrice</th>\n",
       "      <th>purchasePriceRange</th>\n",
       "      <th>regio1</th>\n",
       "      <th>regio2</th>\n",
       "      <th>regio3</th>\n",
       "      <th>rented</th>\n",
       "      <th>street</th>\n",
       "      <th>streetPlain</th>\n",
       "      <th>telekomDownloadSpeed</th>\n",
       "      <th>telekomHdTelephone</th>\n",
       "      <th>telekomHybridDownloadSpeed</th>\n",
       "      <th>telekomHybridUploadSpeed</th>\n",
       "      <th>telekomInternet</th>\n",
       "      <th>telekomInternetProductAvailable</th>\n",
       "      <th>telekomInternetProductName</th>\n",
       "      <th>telekomInternetServices</th>\n",
       "      <th>telekomInternetTechnology</th>\n",
       "      <th>telekomInternetType</th>\n",
       "      <th>telekomInternetUrl</th>\n",
       "      <th>telekomInternetUrlMobile</th>\n",
       "      <th>telekomTrackingGroup</th>\n",
       "      <th>telekomTvOffer</th>\n",
       "      <th>telekomUploadSpeed</th>\n",
       "      <th>thermalChar</th>\n",
       "      <th>usableArea</th>\n",
       "      <th>yearConstructed</th>\n",
       "      <th>yearConstructedRange</th>\n",
       "      <th>zipCode</th>\n",
       "      <th>qkm</th>\n",
       "      <th>einwohner</th>\n",
       "      <th>bev_pro_km2</th>\n",
       "      <th>wanderungssaldo16</th>\n",
       "      <th>bevoelkerungsdichte2016</th>\n",
       "      <th>beschaeftigtenquote2016</th>\n",
       "      <th>bevoelkerungsentwicklung2016</th>\n",
       "      <th>bruttoentgelteJeBeschaeftigte2016</th>\n",
       "      <th>geburtenGestorbenenueberschuss2016</th>\n",
       "      <th>verfuegbaresEinkommenJeEinwohner2016</th>\n",
       "      <th>ms_key</th>\n",
       "      <th>ms_65qm</th>\n",
       "      <th>ms_100qm</th>\n",
       "    </tr>\n",
       "  </thead>\n",
       "  <tbody>\n",
       "    <tr>\n",
       "      <th>0</th>\n",
       "      <td>111439855</td>\n",
       "      <td>/expose/111439855</td>\n",
       "      <td>2019-05-10 21:18:10.938789</td>\n",
       "      <td>5316</td>\n",
       "      <td>['Mehrfamilienhaus mit 3 Wohnungen und einem B...</td>\n",
       "      <td>profile0</td>\n",
       "      <td>NaN</td>\n",
       "      <td>False</td>\n",
       "      <td>True</td>\n",
       "      <td>True</td>\n",
       "      <td>ADS1406_ON</td>\n",
       "      <td>standard</td>\n",
       "      <td>NaN</td>\n",
       "      <td>Nordrhein_Westfalen</td>\n",
       "      <td>Leverkusen</td>\n",
       "      <td>Deutschland</td>\n",
       "      <td>False</td>\n",
       "      <td>n</td>\n",
       "      <td>multi_family_house</td>\n",
       "      <td>17339888</td>\n",
       "      <td>n</td>\n",
       "      <td>no_information</td>\n",
       "      <td>no_information</td>\n",
       "      <td>y</td>\n",
       "      <td>009.7f6709d7-64fc-401c-a2b5-bdff8f7c0e43</td>\n",
       "      <td>NaN</td>\n",
       "      <td>NaN</td>\n",
       "      <td>gas</td>\n",
       "      <td>disabled</td>\n",
       "      <td>NaN</td>\n",
       "      <td>central_heating</td>\n",
       "      <td>no_information</td>\n",
       "      <td>haus_kauf</td>\n",
       "      <td>simple</td>\n",
       "      <td>n</td>\n",
       "      <td>3,active</td>\n",
       "      <td>NaN</td>\n",
       "      <td>258.0</td>\n",
       "      <td>7</td>\n",
       "      <td>230.0</td>\n",
       "      <td>n</td>\n",
       "      <td>NaN</td>\n",
       "      <td>7.0</td>\n",
       "      <td>5</td>\n",
       "      <td>2.0</td>\n",
       "      <td>FC0022-100519</td>\n",
       "      <td>https://pictures.immobilienscout24.de/listings...</td>\n",
       "      <td>53</td>\n",
       "      <td>1</td>\n",
       "      <td>6.77</td>\n",
       "      <td>6.77</td>\n",
       "      <td>0.19</td>\n",
       "      <td>NaN</td>\n",
       "      <td>295000.0</td>\n",
       "      <td>6</td>\n",
       "      <td>Nordrhein_Westfalen</td>\n",
       "      <td>Leverkusen</td>\n",
       "      <td>Hitdorf</td>\n",
       "      <td>n</td>\n",
       "      <td>no_information</td>\n",
       "      <td>no_information</td>\n",
       "      <td>100 MBit/s</td>\n",
       "      <td>True</td>\n",
       "      <td>NaN</td>\n",
       "      <td>NaN</td>\n",
       "      <td>100 MBit/s</td>\n",
       "      <td>True</td>\n",
       "      <td>MagentaZuhause L</td>\n",
       "      <td>web,email,bank,music,dl-ul,game,sd,mltstr,hd,f...</td>\n",
       "      <td>über VDSL</td>\n",
       "      <td>REGULAR</td>\n",
       "      <td>https://padlock.link/ml</td>\n",
       "      <td>https://padlock.link/ioml</td>\n",
       "      <td>telekom_layer_magenta_l</td>\n",
       "      <td>ONE_YEAR_FREE</td>\n",
       "      <td>40 MBit/s</td>\n",
       "      <td>NaN</td>\n",
       "      <td>NaN</td>\n",
       "      <td>NaN</td>\n",
       "      <td>NaN</td>\n",
       "      <td>51371</td>\n",
       "      <td>15.109325</td>\n",
       "      <td>29561.0</td>\n",
       "      <td>1956.473899</td>\n",
       "      <td>-6.6</td>\n",
       "      <td>2038.4</td>\n",
       "      <td>56.8</td>\n",
       "      <td>-22.9</td>\n",
       "      <td>68.6</td>\n",
       "      <td>-13.5</td>\n",
       "      <td>20884</td>\n",
       "      <td>Köln</td>\n",
       "      <td>8.55</td>\n",
       "      <td>9.7</td>\n",
       "    </tr>\n",
       "    <tr>\n",
       "      <th>1</th>\n",
       "      <td>111439792</td>\n",
       "      <td>/expose/111439792</td>\n",
       "      <td>2019-05-10 21:18:11.642809</td>\n",
       "      <td>3454</td>\n",
       "      <td>['In gewachsener Siedlungslage steht dieses so...</td>\n",
       "      <td>profile0</td>\n",
       "      <td>NaN</td>\n",
       "      <td>False</td>\n",
       "      <td>NaN</td>\n",
       "      <td>True</td>\n",
       "      <td>ADS1406_ON</td>\n",
       "      <td>standard</td>\n",
       "      <td>NaN</td>\n",
       "      <td>Niedersachsen</td>\n",
       "      <td>Emsland_Kreis</td>\n",
       "      <td>Deutschland</td>\n",
       "      <td>True</td>\n",
       "      <td>n</td>\n",
       "      <td>single_family_house</td>\n",
       "      <td>17051077</td>\n",
       "      <td>n</td>\n",
       "      <td>well_kept</td>\n",
       "      <td>completed</td>\n",
       "      <td>y</td>\n",
       "      <td>002.01000552843</td>\n",
       "      <td>E</td>\n",
       "      <td>energy_consumption</td>\n",
       "      <td>gas</td>\n",
       "      <td>NaN</td>\n",
       "      <td>NaN</td>\n",
       "      <td>central_heating</td>\n",
       "      <td>no_information</td>\n",
       "      <td>haus_kauf</td>\n",
       "      <td>no_information</td>\n",
       "      <td>n</td>\n",
       "      <td>3,active</td>\n",
       "      <td>NaN</td>\n",
       "      <td>136.0</td>\n",
       "      <td>3</td>\n",
       "      <td>1594.0</td>\n",
       "      <td>n</td>\n",
       "      <td>3.0</td>\n",
       "      <td>4.0</td>\n",
       "      <td>4</td>\n",
       "      <td>NaN</td>\n",
       "      <td>8854</td>\n",
       "      <td>https://pictures.immobilienscout24.de/listings...</td>\n",
       "      <td>19</td>\n",
       "      <td>5</td>\n",
       "      <td>9.68</td>\n",
       "      <td>9.68</td>\n",
       "      <td>2.04</td>\n",
       "      <td>NaN</td>\n",
       "      <td>291000.0</td>\n",
       "      <td>6</td>\n",
       "      <td>Niedersachsen</td>\n",
       "      <td>Emsland_Kreis</td>\n",
       "      <td>Emsbüren</td>\n",
       "      <td>n</td>\n",
       "      <td>no_information</td>\n",
       "      <td>no_information</td>\n",
       "      <td>16 MBit/s</td>\n",
       "      <td>True</td>\n",
       "      <td>50 MBit/s</td>\n",
       "      <td>10 MBit/s</td>\n",
       "      <td>50 MBit/s</td>\n",
       "      <td>True</td>\n",
       "      <td>MagentaZuhause M Hybrid (2)</td>\n",
       "      <td>web,email,bank,music,dl-ul,game,sd,mltstr,hd</td>\n",
       "      <td>über Hybrid</td>\n",
       "      <td>WITH_HYBRID</td>\n",
       "      <td>https://padlock.link/mmhy2</td>\n",
       "      <td>https://padlock.link/mmh2sa</td>\n",
       "      <td>telekom_layer_magenta_m_hybrid2</td>\n",
       "      <td>ONE_YEAR_FREE</td>\n",
       "      <td>2,4 MBit/s</td>\n",
       "      <td>154.0</td>\n",
       "      <td>NaN</td>\n",
       "      <td>1980.0</td>\n",
       "      <td>3.0</td>\n",
       "      <td>48488</td>\n",
       "      <td>140.069215</td>\n",
       "      <td>9780.0</td>\n",
       "      <td>69.822623</td>\n",
       "      <td>59.9</td>\n",
       "      <td>108.6</td>\n",
       "      <td>57.5</td>\n",
       "      <td>59.4</td>\n",
       "      <td>41.1</td>\n",
       "      <td>3.2</td>\n",
       "      <td>20469</td>\n",
       "      <td>NaN</td>\n",
       "      <td>NaN</td>\n",
       "      <td>NaN</td>\n",
       "    </tr>\n",
       "    <tr>\n",
       "      <th>2</th>\n",
       "      <td>111439750</td>\n",
       "      <td>/expose/111439750</td>\n",
       "      <td>2019-05-10 21:18:12.357044</td>\n",
       "      <td>5334</td>\n",
       "      <td>['Massive DHH in hervorragender Wohngegend\\r\\n...</td>\n",
       "      <td>profile0</td>\n",
       "      <td>NaN</td>\n",
       "      <td>False</td>\n",
       "      <td>NaN</td>\n",
       "      <td>True</td>\n",
       "      <td>ADS1406_ON</td>\n",
       "      <td>standard</td>\n",
       "      <td>NaN</td>\n",
       "      <td>Nordrhein_Westfalen</td>\n",
       "      <td>Aachen_Kreis</td>\n",
       "      <td>Deutschland</td>\n",
       "      <td>True</td>\n",
       "      <td>n</td>\n",
       "      <td>semidetached_house</td>\n",
       "      <td>18328654</td>\n",
       "      <td>y</td>\n",
       "      <td>well_kept</td>\n",
       "      <td>completed</td>\n",
       "      <td>y</td>\n",
       "      <td>002.01009149369</td>\n",
       "      <td>C</td>\n",
       "      <td>energy_consumption</td>\n",
       "      <td>gas</td>\n",
       "      <td>NaN</td>\n",
       "      <td>NaN</td>\n",
       "      <td>central_heating</td>\n",
       "      <td>no_information</td>\n",
       "      <td>haus_kauf</td>\n",
       "      <td>no_information</td>\n",
       "      <td>n</td>\n",
       "      <td>3,active</td>\n",
       "      <td>NaN</td>\n",
       "      <td>155.0</td>\n",
       "      <td>4</td>\n",
       "      <td>464.0</td>\n",
       "      <td>n</td>\n",
       "      <td>3.0</td>\n",
       "      <td>5.0</td>\n",
       "      <td>5</td>\n",
       "      <td>NaN</td>\n",
       "      <td>46280107-02752</td>\n",
       "      <td>https://pictures.immobilienscout24.de/listings...</td>\n",
       "      <td>10</td>\n",
       "      <td>2</td>\n",
       "      <td>6.76</td>\n",
       "      <td>6.76</td>\n",
       "      <td>2.27</td>\n",
       "      <td>NaN</td>\n",
       "      <td>410000.0</td>\n",
       "      <td>8</td>\n",
       "      <td>Nordrhein_Westfalen</td>\n",
       "      <td>Aachen_Kreis</td>\n",
       "      <td>Alsdorf</td>\n",
       "      <td>n</td>\n",
       "      <td>no_information</td>\n",
       "      <td>no_information</td>\n",
       "      <td>16 MBit/s</td>\n",
       "      <td>True</td>\n",
       "      <td>50 MBit/s</td>\n",
       "      <td>10 MBit/s</td>\n",
       "      <td>50 MBit/s</td>\n",
       "      <td>True</td>\n",
       "      <td>MagentaZuhause M Hybrid (2)</td>\n",
       "      <td>web,email,bank,music,dl-ul,game,sd,mltstr,hd</td>\n",
       "      <td>über Hybrid</td>\n",
       "      <td>WITH_HYBRID</td>\n",
       "      <td>https://padlock.link/mmhy2</td>\n",
       "      <td>https://padlock.link/mmh2sa</td>\n",
       "      <td>telekom_layer_magenta_m_hybrid2</td>\n",
       "      <td>ONE_YEAR_FREE</td>\n",
       "      <td>2,4 MBit/s</td>\n",
       "      <td>98.0</td>\n",
       "      <td>55.0</td>\n",
       "      <td>1993.0</td>\n",
       "      <td>5.0</td>\n",
       "      <td>52477</td>\n",
       "      <td>31.654418</td>\n",
       "      <td>46553.0</td>\n",
       "      <td>1470.663590</td>\n",
       "      <td>-3.1</td>\n",
       "      <td>800.1</td>\n",
       "      <td>51.1</td>\n",
       "      <td>-26.2</td>\n",
       "      <td>49.8</td>\n",
       "      <td>-14.9</td>\n",
       "      <td>19781</td>\n",
       "      <td>Alsdorf</td>\n",
       "      <td>6.00</td>\n",
       "      <td>5.4</td>\n",
       "    </tr>\n",
       "    <tr>\n",
       "      <th>3</th>\n",
       "      <td>111439851</td>\n",
       "      <td>/expose/111439851</td>\n",
       "      <td>2019-05-10 21:18:12.913218</td>\n",
       "      <td>3157</td>\n",
       "      <td>['Sie suchen ein Haus für eine große Familie, ...</td>\n",
       "      <td>profile0</td>\n",
       "      <td>NaN</td>\n",
       "      <td>False</td>\n",
       "      <td>NaN</td>\n",
       "      <td>True</td>\n",
       "      <td>ADS1406_OFF</td>\n",
       "      <td>standard</td>\n",
       "      <td>NaN</td>\n",
       "      <td>Niedersachsen</td>\n",
       "      <td>Peine_Kreis</td>\n",
       "      <td>Deutschland</td>\n",
       "      <td>False</td>\n",
       "      <td>n</td>\n",
       "      <td>single_family_house</td>\n",
       "      <td>17077144</td>\n",
       "      <td>y</td>\n",
       "      <td>modernized</td>\n",
       "      <td>no_information</td>\n",
       "      <td>y</td>\n",
       "      <td>002.01007720063</td>\n",
       "      <td>E</td>\n",
       "      <td>energy_consumption</td>\n",
       "      <td>gas</td>\n",
       "      <td>disabled</td>\n",
       "      <td>NaN</td>\n",
       "      <td>central_heating</td>\n",
       "      <td>no_information</td>\n",
       "      <td>haus_kauf</td>\n",
       "      <td>no_information</td>\n",
       "      <td>n</td>\n",
       "      <td>3,active</td>\n",
       "      <td>NaN</td>\n",
       "      <td>130.0</td>\n",
       "      <td>3</td>\n",
       "      <td>1010.0</td>\n",
       "      <td>n</td>\n",
       "      <td>1.0</td>\n",
       "      <td>7.0</td>\n",
       "      <td>5</td>\n",
       "      <td>2.0</td>\n",
       "      <td>638</td>\n",
       "      <td>https://pictures.immobilienscout24.de/listings...</td>\n",
       "      <td>37</td>\n",
       "      <td>5</td>\n",
       "      <td>6.94</td>\n",
       "      <td>6.94</td>\n",
       "      <td>1.19</td>\n",
       "      <td>NaN</td>\n",
       "      <td>299000.0</td>\n",
       "      <td>6</td>\n",
       "      <td>Niedersachsen</td>\n",
       "      <td>Peine_Kreis</td>\n",
       "      <td>Ilsede</td>\n",
       "      <td>n</td>\n",
       "      <td>no_information</td>\n",
       "      <td>no_information</td>\n",
       "      <td>100 MBit/s</td>\n",
       "      <td>True</td>\n",
       "      <td>NaN</td>\n",
       "      <td>NaN</td>\n",
       "      <td>100 MBit/s</td>\n",
       "      <td>True</td>\n",
       "      <td>MagentaZuhause L</td>\n",
       "      <td>web,email,bank,music,dl-ul,game,sd,mltstr,hd,f...</td>\n",
       "      <td>über VDSL</td>\n",
       "      <td>REGULAR</td>\n",
       "      <td>https://padlock.link/ml</td>\n",
       "      <td>https://padlock.link/ioml</td>\n",
       "      <td>telekom_layer_magenta_l</td>\n",
       "      <td>ONE_YEAR_FREE</td>\n",
       "      <td>40 MBit/s</td>\n",
       "      <td>159.5</td>\n",
       "      <td>50.0</td>\n",
       "      <td>1965.0</td>\n",
       "      <td>2.0</td>\n",
       "      <td>31241</td>\n",
       "      <td>28.994730</td>\n",
       "      <td>11523.0</td>\n",
       "      <td>397.417048</td>\n",
       "      <td>77.6</td>\n",
       "      <td>245.8</td>\n",
       "      <td>59.2</td>\n",
       "      <td>49.7</td>\n",
       "      <td>41.3</td>\n",
       "      <td>-27.2</td>\n",
       "      <td>21203</td>\n",
       "      <td>Ilsede</td>\n",
       "      <td>NaN</td>\n",
       "      <td>NaN</td>\n",
       "    </tr>\n",
       "    <tr>\n",
       "      <th>4</th>\n",
       "      <td>111439746</td>\n",
       "      <td>/expose/111439746</td>\n",
       "      <td>2019-05-10 21:18:13.422604</td>\n",
       "      <td>5358</td>\n",
       "      <td>['Massives freistehendes EFH in ruhiger Lage\\r...</td>\n",
       "      <td>profile0</td>\n",
       "      <td>NaN</td>\n",
       "      <td>False</td>\n",
       "      <td>NaN</td>\n",
       "      <td>True</td>\n",
       "      <td>ADS1406_ON</td>\n",
       "      <td>standard</td>\n",
       "      <td>NaN</td>\n",
       "      <td>Nordrhein_Westfalen</td>\n",
       "      <td>Düren_Kreis</td>\n",
       "      <td>Deutschland</td>\n",
       "      <td>True</td>\n",
       "      <td>n</td>\n",
       "      <td>single_family_house</td>\n",
       "      <td>18328654</td>\n",
       "      <td>y</td>\n",
       "      <td>well_kept</td>\n",
       "      <td>completed</td>\n",
       "      <td>y</td>\n",
       "      <td>002.01009149369</td>\n",
       "      <td>C</td>\n",
       "      <td>energy_consumption</td>\n",
       "      <td>gas</td>\n",
       "      <td>NaN</td>\n",
       "      <td>NaN</td>\n",
       "      <td>central_heating</td>\n",
       "      <td>no_information</td>\n",
       "      <td>haus_kauf</td>\n",
       "      <td>no_information</td>\n",
       "      <td>n</td>\n",
       "      <td>3,active</td>\n",
       "      <td>2011.0</td>\n",
       "      <td>102.0</td>\n",
       "      <td>2</td>\n",
       "      <td>649.0</td>\n",
       "      <td>n</td>\n",
       "      <td>3.0</td>\n",
       "      <td>4.0</td>\n",
       "      <td>4</td>\n",
       "      <td>NaN</td>\n",
       "      <td>46280107-02681</td>\n",
       "      <td>https://pictures.immobilienscout24.de/listings...</td>\n",
       "      <td>8</td>\n",
       "      <td>3</td>\n",
       "      <td>7.67</td>\n",
       "      <td>7.67</td>\n",
       "      <td>1.19</td>\n",
       "      <td>NaN</td>\n",
       "      <td>320000.0</td>\n",
       "      <td>7</td>\n",
       "      <td>Nordrhein_Westfalen</td>\n",
       "      <td>Düren_Kreis</td>\n",
       "      <td>Aldenhoven</td>\n",
       "      <td>n</td>\n",
       "      <td>no_information</td>\n",
       "      <td>no_information</td>\n",
       "      <td>16 MBit/s</td>\n",
       "      <td>True</td>\n",
       "      <td>50 MBit/s</td>\n",
       "      <td>10 MBit/s</td>\n",
       "      <td>50 MBit/s</td>\n",
       "      <td>True</td>\n",
       "      <td>MagentaZuhause M Hybrid (2)</td>\n",
       "      <td>web,email,bank,music,dl-ul,game,sd,mltstr,hd</td>\n",
       "      <td>über Hybrid</td>\n",
       "      <td>WITH_HYBRID</td>\n",
       "      <td>https://padlock.link/mmhy2</td>\n",
       "      <td>https://padlock.link/mmh2sa</td>\n",
       "      <td>telekom_layer_magenta_m_hybrid2</td>\n",
       "      <td>ONE_YEAR_FREE</td>\n",
       "      <td>2,4 MBit/s</td>\n",
       "      <td>98.0</td>\n",
       "      <td>55.0</td>\n",
       "      <td>NaN</td>\n",
       "      <td>NaN</td>\n",
       "      <td>52457</td>\n",
       "      <td>44.093991</td>\n",
       "      <td>13751.0</td>\n",
       "      <td>311.856552</td>\n",
       "      <td>1.0</td>\n",
       "      <td>284.4</td>\n",
       "      <td>54.4</td>\n",
       "      <td>-28.8</td>\n",
       "      <td>45.8</td>\n",
       "      <td>-22.8</td>\n",
       "      <td>20526</td>\n",
       "      <td>Aldenhofen, Gemeinde</td>\n",
       "      <td>NaN</td>\n",
       "      <td>NaN</td>\n",
       "    </tr>\n",
       "  </tbody>\n",
       "</table>\n",
       "</div>"
      ],
      "text/plain": [
       "     scoutId                URL                   Timestamp  Schluessel  \\\n",
       "0  111439855  /expose/111439855  2019-05-10 21:18:10.938789        5316   \n",
       "1  111439792  /expose/111439792  2019-05-10 21:18:11.642809        3454   \n",
       "2  111439750  /expose/111439750  2019-05-10 21:18:12.357044        5334   \n",
       "3  111439851  /expose/111439851  2019-05-10 21:18:12.913218        3157   \n",
       "4  111439746  /expose/111439746  2019-05-10 21:18:13.422604        5358   \n",
       "\n",
       "                                        beschreibung requirements group  \\\n",
       "0  ['Mehrfamilienhaus mit 3 Wohnungen und einem B...     profile0   NaN   \n",
       "1  ['In gewachsener Siedlungslage steht dieses so...     profile0   NaN   \n",
       "2  ['Massive DHH in hervorragender Wohngegend\\r\\n...     profile0   NaN   \n",
       "3  ['Sie suchen ein Haus für eine große Familie, ...     profile0   NaN   \n",
       "4  ['Massives freistehendes EFH in ruhiger Lage\\r...     profile0   NaN   \n",
       "\n",
       "   historicallisting virtualreality  shown          ads       via qualified  \\\n",
       "0              False           True   True   ADS1406_ON  standard       NaN   \n",
       "1              False            NaN   True   ADS1406_ON  standard       NaN   \n",
       "2              False            NaN   True   ADS1406_ON  standard       NaN   \n",
       "3              False            NaN   True  ADS1406_OFF  standard       NaN   \n",
       "4              False            NaN   True   ADS1406_ON  standard       NaN   \n",
       "\n",
       "                   bln            krs         land ExclusiveExpose  \\\n",
       "0  Nordrhein_Westfalen     Leverkusen  Deutschland           False   \n",
       "1        Niedersachsen  Emsland_Kreis  Deutschland            True   \n",
       "2  Nordrhein_Westfalen   Aachen_Kreis  Deutschland            True   \n",
       "3        Niedersachsen    Peine_Kreis  Deutschland           False   \n",
       "4  Nordrhein_Westfalen    Düren_Kreis  Deutschland            True   \n",
       "\n",
       "  barrierFree         buildingType       cId cellar       condition  \\\n",
       "0           n   multi_family_house  17339888      n  no_information   \n",
       "1           n  single_family_house  17051077      n       well_kept   \n",
       "2           n   semidetached_house  18328654      y       well_kept   \n",
       "3           n  single_family_house  17077144      y      modernized   \n",
       "4           n  single_family_house  18328654      y       well_kept   \n",
       "\n",
       "  constructionPhase courtage                                      cwId  \\\n",
       "0    no_information        y  009.7f6709d7-64fc-401c-a2b5-bdff8f7c0e43   \n",
       "1         completed        y                           002.01000552843   \n",
       "2         completed        y                           002.01009149369   \n",
       "3    no_information        y                           002.01007720063   \n",
       "4         completed        y                           002.01009149369   \n",
       "\n",
       "  energyEfficiencyClass          energyType firingTypes galleryAd  \\\n",
       "0                   NaN                 NaN         gas  disabled   \n",
       "1                     E  energy_consumption         gas       NaN   \n",
       "2                     C  energy_consumption         gas       NaN   \n",
       "3                     E  energy_consumption         gas  disabled   \n",
       "4                     C  energy_consumption         gas       NaN   \n",
       "\n",
       "   groupnumber      heatingType     houseNumber   immotype    interiorQual  \\\n",
       "0          NaN  central_heating  no_information  haus_kauf          simple   \n",
       "1          NaN  central_heating  no_information  haus_kauf  no_information   \n",
       "2          NaN  central_heating  no_information  haus_kauf  no_information   \n",
       "3          NaN  central_heating  no_information  haus_kauf  no_information   \n",
       "4          NaN  central_heating  no_information  haus_kauf  no_information   \n",
       "\n",
       "  international      ityp  lastRefurbish  livingSpace  livingSpaceRange  \\\n",
       "0             n  3,active            NaN        258.0                 7   \n",
       "1             n  3,active            NaN        136.0                 3   \n",
       "2             n  3,active            NaN        155.0                 4   \n",
       "3             n  3,active            NaN        130.0                 3   \n",
       "4             n  3,active         2011.0        102.0                 2   \n",
       "\n",
       "   lotArea newlyConst  noParkSpaces  noRooms  noRoomsRange  numberOfFloors  \\\n",
       "0    230.0          n           NaN      7.0             5             2.0   \n",
       "1   1594.0          n           3.0      4.0             4             NaN   \n",
       "2    464.0          n           3.0      5.0             5             NaN   \n",
       "3   1010.0          n           1.0      7.0             5             2.0   \n",
       "4    649.0          n           3.0      4.0             4             NaN   \n",
       "\n",
       "     objectnumber                                            picture  \\\n",
       "0   FC0022-100519  https://pictures.immobilienscout24.de/listings...   \n",
       "1            8854  https://pictures.immobilienscout24.de/listings...   \n",
       "2  46280107-02752  https://pictures.immobilienscout24.de/listings...   \n",
       "3             638  https://pictures.immobilienscout24.de/listings...   \n",
       "4  46280107-02681  https://pictures.immobilienscout24.de/listings...   \n",
       "\n",
       "   picturecount  plotAreaRange  pricetrend  pricetrendbuy  pricetrendrent  id  \\\n",
       "0            53              1        6.77           6.77            0.19 NaN   \n",
       "1            19              5        9.68           9.68            2.04 NaN   \n",
       "2            10              2        6.76           6.76            2.27 NaN   \n",
       "3            37              5        6.94           6.94            1.19 NaN   \n",
       "4             8              3        7.67           7.67            1.19 NaN   \n",
       "\n",
       "   purchasePrice  purchasePriceRange               regio1         regio2  \\\n",
       "0       295000.0                   6  Nordrhein_Westfalen     Leverkusen   \n",
       "1       291000.0                   6        Niedersachsen  Emsland_Kreis   \n",
       "2       410000.0                   8  Nordrhein_Westfalen   Aachen_Kreis   \n",
       "3       299000.0                   6        Niedersachsen    Peine_Kreis   \n",
       "4       320000.0                   7  Nordrhein_Westfalen    Düren_Kreis   \n",
       "\n",
       "       regio3 rented          street     streetPlain telekomDownloadSpeed  \\\n",
       "0     Hitdorf      n  no_information  no_information           100 MBit/s   \n",
       "1    Emsbüren      n  no_information  no_information            16 MBit/s   \n",
       "2     Alsdorf      n  no_information  no_information            16 MBit/s   \n",
       "3      Ilsede      n  no_information  no_information           100 MBit/s   \n",
       "4  Aldenhoven      n  no_information  no_information            16 MBit/s   \n",
       "\n",
       "  telekomHdTelephone telekomHybridDownloadSpeed telekomHybridUploadSpeed  \\\n",
       "0               True                        NaN                      NaN   \n",
       "1               True                  50 MBit/s                10 MBit/s   \n",
       "2               True                  50 MBit/s                10 MBit/s   \n",
       "3               True                        NaN                      NaN   \n",
       "4               True                  50 MBit/s                10 MBit/s   \n",
       "\n",
       "  telekomInternet telekomInternetProductAvailable  \\\n",
       "0      100 MBit/s                            True   \n",
       "1       50 MBit/s                            True   \n",
       "2       50 MBit/s                            True   \n",
       "3      100 MBit/s                            True   \n",
       "4       50 MBit/s                            True   \n",
       "\n",
       "    telekomInternetProductName  \\\n",
       "0             MagentaZuhause L   \n",
       "1  MagentaZuhause M Hybrid (2)   \n",
       "2  MagentaZuhause M Hybrid (2)   \n",
       "3             MagentaZuhause L   \n",
       "4  MagentaZuhause M Hybrid (2)   \n",
       "\n",
       "                             telekomInternetServices  \\\n",
       "0  web,email,bank,music,dl-ul,game,sd,mltstr,hd,f...   \n",
       "1       web,email,bank,music,dl-ul,game,sd,mltstr,hd   \n",
       "2       web,email,bank,music,dl-ul,game,sd,mltstr,hd   \n",
       "3  web,email,bank,music,dl-ul,game,sd,mltstr,hd,f...   \n",
       "4       web,email,bank,music,dl-ul,game,sd,mltstr,hd   \n",
       "\n",
       "  telekomInternetTechnology telekomInternetType          telekomInternetUrl  \\\n",
       "0                 über VDSL             REGULAR     https://padlock.link/ml   \n",
       "1               über Hybrid         WITH_HYBRID  https://padlock.link/mmhy2   \n",
       "2               über Hybrid         WITH_HYBRID  https://padlock.link/mmhy2   \n",
       "3                 über VDSL             REGULAR     https://padlock.link/ml   \n",
       "4               über Hybrid         WITH_HYBRID  https://padlock.link/mmhy2   \n",
       "\n",
       "      telekomInternetUrlMobile             telekomTrackingGroup  \\\n",
       "0    https://padlock.link/ioml          telekom_layer_magenta_l   \n",
       "1  https://padlock.link/mmh2sa  telekom_layer_magenta_m_hybrid2   \n",
       "2  https://padlock.link/mmh2sa  telekom_layer_magenta_m_hybrid2   \n",
       "3    https://padlock.link/ioml          telekom_layer_magenta_l   \n",
       "4  https://padlock.link/mmh2sa  telekom_layer_magenta_m_hybrid2   \n",
       "\n",
       "  telekomTvOffer telekomUploadSpeed  thermalChar  usableArea  yearConstructed  \\\n",
       "0  ONE_YEAR_FREE          40 MBit/s          NaN         NaN              NaN   \n",
       "1  ONE_YEAR_FREE         2,4 MBit/s        154.0         NaN           1980.0   \n",
       "2  ONE_YEAR_FREE         2,4 MBit/s         98.0        55.0           1993.0   \n",
       "3  ONE_YEAR_FREE          40 MBit/s        159.5        50.0           1965.0   \n",
       "4  ONE_YEAR_FREE         2,4 MBit/s         98.0        55.0              NaN   \n",
       "\n",
       "   yearConstructedRange  zipCode         qkm  einwohner  bev_pro_km2  \\\n",
       "0                   NaN    51371   15.109325    29561.0  1956.473899   \n",
       "1                   3.0    48488  140.069215     9780.0    69.822623   \n",
       "2                   5.0    52477   31.654418    46553.0  1470.663590   \n",
       "3                   2.0    31241   28.994730    11523.0   397.417048   \n",
       "4                   NaN    52457   44.093991    13751.0   311.856552   \n",
       "\n",
       "   wanderungssaldo16  bevoelkerungsdichte2016  beschaeftigtenquote2016  \\\n",
       "0               -6.6                   2038.4                     56.8   \n",
       "1               59.9                    108.6                     57.5   \n",
       "2               -3.1                    800.1                     51.1   \n",
       "3               77.6                    245.8                     59.2   \n",
       "4                1.0                    284.4                     54.4   \n",
       "\n",
       "   bevoelkerungsentwicklung2016  bruttoentgelteJeBeschaeftigte2016  \\\n",
       "0                         -22.9                               68.6   \n",
       "1                          59.4                               41.1   \n",
       "2                         -26.2                               49.8   \n",
       "3                          49.7                               41.3   \n",
       "4                         -28.8                               45.8   \n",
       "\n",
       "   geburtenGestorbenenueberschuss2016  verfuegbaresEinkommenJeEinwohner2016  \\\n",
       "0                               -13.5                                 20884   \n",
       "1                                 3.2                                 20469   \n",
       "2                               -14.9                                 19781   \n",
       "3                               -27.2                                 21203   \n",
       "4                               -22.8                                 20526   \n",
       "\n",
       "                 ms_key  ms_65qm  ms_100qm  \n",
       "0                  Köln     8.55       9.7  \n",
       "1                   NaN      NaN       NaN  \n",
       "2               Alsdorf     6.00       5.4  \n",
       "3                Ilsede      NaN       NaN  \n",
       "4  Aldenhofen, Gemeinde      NaN       NaN  "
      ]
     },
     "execution_count": 51,
     "metadata": {},
     "output_type": "execute_result"
    }
   ],
   "source": [
    "print(\"Shape df_dataset_raw: \"+str(df_dataset_raw.shape))\n",
    "df_dataset_raw.head()"
   ]
  },
  {
   "cell_type": "code",
   "execution_count": 52,
   "metadata": {},
   "outputs": [
    {
     "data": {
      "text/plain": [
       "Index(['scoutId', 'URL', 'Timestamp', 'Schluessel', 'beschreibung',\n",
       "       'requirements', 'group', 'historicallisting', 'virtualreality', 'shown',\n",
       "       'ads', 'via', 'qualified', 'bln', 'krs', 'land', 'ExclusiveExpose',\n",
       "       'barrierFree', 'buildingType', 'cId', 'cellar', 'condition',\n",
       "       'constructionPhase', 'courtage', 'cwId', 'energyEfficiencyClass',\n",
       "       'energyType', 'firingTypes', 'galleryAd', 'groupnumber', 'heatingType',\n",
       "       'houseNumber', 'immotype', 'interiorQual', 'international', 'ityp',\n",
       "       'lastRefurbish', 'livingSpace', 'livingSpaceRange', 'lotArea',\n",
       "       'newlyConst', 'noParkSpaces', 'noRooms', 'noRoomsRange',\n",
       "       'numberOfFloors', 'objectnumber', 'picture', 'picturecount',\n",
       "       'plotAreaRange', 'pricetrend', 'pricetrendbuy', 'pricetrendrent', 'id',\n",
       "       'purchasePrice', 'purchasePriceRange', 'regio1', 'regio2', 'regio3',\n",
       "       'rented', 'street', 'streetPlain', 'telekomDownloadSpeed',\n",
       "       'telekomHdTelephone', 'telekomHybridDownloadSpeed',\n",
       "       'telekomHybridUploadSpeed', 'telekomInternet',\n",
       "       'telekomInternetProductAvailable', 'telekomInternetProductName',\n",
       "       'telekomInternetServices', 'telekomInternetTechnology',\n",
       "       'telekomInternetType', 'telekomInternetUrl', 'telekomInternetUrlMobile',\n",
       "       'telekomTrackingGroup', 'telekomTvOffer', 'telekomUploadSpeed',\n",
       "       'thermalChar', 'usableArea', 'yearConstructed', 'yearConstructedRange',\n",
       "       'zipCode', 'qkm', 'einwohner', 'bev_pro_km2', 'wanderungssaldo16',\n",
       "       'bevoelkerungsdichte2016', 'beschaeftigtenquote2016',\n",
       "       'bevoelkerungsentwicklung2016', 'bruttoentgelteJeBeschaeftigte2016',\n",
       "       'geburtenGestorbenenueberschuss2016',\n",
       "       'verfuegbaresEinkommenJeEinwohner2016', 'ms_key', 'ms_65qm',\n",
       "       'ms_100qm'],\n",
       "      dtype='object')"
      ]
     },
     "execution_count": 52,
     "metadata": {},
     "output_type": "execute_result"
    }
   ],
   "source": [
    "df_dataset_raw.columns"
   ]
  },
  {
   "cell_type": "code",
   "execution_count": 53,
   "metadata": {},
   "outputs": [
    {
     "name": "stdout",
     "output_type": "stream",
     "text": [
      "shape df_raw: (90686, 42)\n"
     ]
    }
   ],
   "source": [
    "interesting_features = ['scoutId', 'zipCode', 'Schluessel', 'bln', 'krs', 'purchasePrice', 'buildingType', 'cellar', \n",
    "                        'condition', 'energyEfficiencyClass', 'firingTypes', 'heatingType', 'interiorQual', \n",
    "                        'lastRefurbish', 'livingSpace', 'lotArea', 'noParkSpaces', 'noRooms', 'numberOfFloors', \n",
    "                        'picturecount', 'pricetrend', 'pricetrendbuy', 'pricetrendrent', 'rented', 'telekomInternet', \n",
    "                        'thermalChar', 'usableArea', 'yearConstructed', 'yearConstructedRange', 'qkm', 'einwohner', \n",
    "                        'bev_pro_km2', 'wanderungssaldo16', 'bevoelkerungsdichte2016', 'beschaeftigtenquote2016', \n",
    "                        'bevoelkerungsentwicklung2016', 'bruttoentgelteJeBeschaeftigte2016', 'geburtenGestorbenenueberschuss2016', \n",
    "                        'verfuegbaresEinkommenJeEinwohner2016', 'ms_key', 'ms_65qm', 'ms_100qm']\n",
    "\n",
    "df_raw = df_dataset_raw[interesting_features]\n",
    "print(\"shape df_raw: \"+str(df_raw.shape))"
   ]
  },
  {
   "cell_type": "code",
   "execution_count": 54,
   "metadata": {},
   "outputs": [
    {
     "data": {
      "text/plain": [
       "scoutId                                   int64\n",
       "zipCode                                   int64\n",
       "Schluessel                                int64\n",
       "bln                                      object\n",
       "krs                                      object\n",
       "purchasePrice                           float64\n",
       "buildingType                             object\n",
       "cellar                                   object\n",
       "condition                                object\n",
       "energyEfficiencyClass                    object\n",
       "firingTypes                              object\n",
       "heatingType                              object\n",
       "interiorQual                             object\n",
       "lastRefurbish                           float64\n",
       "livingSpace                             float64\n",
       "lotArea                                 float64\n",
       "noParkSpaces                            float64\n",
       "noRooms                                 float64\n",
       "numberOfFloors                          float64\n",
       "picturecount                              int64\n",
       "pricetrend                              float64\n",
       "pricetrendbuy                           float64\n",
       "pricetrendrent                          float64\n",
       "rented                                   object\n",
       "telekomInternet                          object\n",
       "thermalChar                             float64\n",
       "usableArea                              float64\n",
       "yearConstructed                         float64\n",
       "yearConstructedRange                    float64\n",
       "qkm                                     float64\n",
       "einwohner                               float64\n",
       "bev_pro_km2                             float64\n",
       "wanderungssaldo16                       float64\n",
       "bevoelkerungsdichte2016                 float64\n",
       "beschaeftigtenquote2016                 float64\n",
       "bevoelkerungsentwicklung2016            float64\n",
       "bruttoentgelteJeBeschaeftigte2016       float64\n",
       "geburtenGestorbenenueberschuss2016      float64\n",
       "verfuegbaresEinkommenJeEinwohner2016      int64\n",
       "ms_key                                   object\n",
       "ms_65qm                                 float64\n",
       "ms_100qm                                float64\n",
       "dtype: object"
      ]
     },
     "execution_count": 54,
     "metadata": {},
     "output_type": "execute_result"
    }
   ],
   "source": [
    "df_raw.dtypes"
   ]
  },
  {
   "cell_type": "code",
   "execution_count": 55,
   "metadata": {},
   "outputs": [
    {
     "data": {
      "text/html": [
       "<div>\n",
       "<style scoped>\n",
       "    .dataframe tbody tr th:only-of-type {\n",
       "        vertical-align: middle;\n",
       "    }\n",
       "\n",
       "    .dataframe tbody tr th {\n",
       "        vertical-align: top;\n",
       "    }\n",
       "\n",
       "    .dataframe thead th {\n",
       "        text-align: right;\n",
       "    }\n",
       "</style>\n",
       "<table border=\"1\" class=\"dataframe\">\n",
       "  <thead>\n",
       "    <tr style=\"text-align: right;\">\n",
       "      <th></th>\n",
       "      <th>scoutId</th>\n",
       "      <th>zipCode</th>\n",
       "      <th>Schluessel</th>\n",
       "      <th>bln</th>\n",
       "      <th>krs</th>\n",
       "      <th>purchasePrice</th>\n",
       "      <th>buildingType</th>\n",
       "      <th>cellar</th>\n",
       "      <th>condition</th>\n",
       "      <th>energyEfficiencyClass</th>\n",
       "      <th>firingTypes</th>\n",
       "      <th>heatingType</th>\n",
       "      <th>interiorQual</th>\n",
       "      <th>lastRefurbish</th>\n",
       "      <th>livingSpace</th>\n",
       "      <th>lotArea</th>\n",
       "      <th>noParkSpaces</th>\n",
       "      <th>noRooms</th>\n",
       "      <th>numberOfFloors</th>\n",
       "      <th>picturecount</th>\n",
       "      <th>pricetrend</th>\n",
       "      <th>pricetrendbuy</th>\n",
       "      <th>pricetrendrent</th>\n",
       "      <th>rented</th>\n",
       "      <th>telekomInternet</th>\n",
       "      <th>thermalChar</th>\n",
       "      <th>usableArea</th>\n",
       "      <th>yearConstructed</th>\n",
       "      <th>yearConstructedRange</th>\n",
       "      <th>qkm</th>\n",
       "      <th>einwohner</th>\n",
       "      <th>bev_pro_km2</th>\n",
       "      <th>wanderungssaldo16</th>\n",
       "      <th>bevoelkerungsdichte2016</th>\n",
       "      <th>beschaeftigtenquote2016</th>\n",
       "      <th>bevoelkerungsentwicklung2016</th>\n",
       "      <th>bruttoentgelteJeBeschaeftigte2016</th>\n",
       "      <th>geburtenGestorbenenueberschuss2016</th>\n",
       "      <th>verfuegbaresEinkommenJeEinwohner2016</th>\n",
       "      <th>ms_key</th>\n",
       "      <th>ms_65qm</th>\n",
       "      <th>ms_100qm</th>\n",
       "    </tr>\n",
       "  </thead>\n",
       "  <tbody>\n",
       "    <tr>\n",
       "      <th>0</th>\n",
       "      <td>111439855</td>\n",
       "      <td>51371</td>\n",
       "      <td>5316</td>\n",
       "      <td>Nordrhein_Westfalen</td>\n",
       "      <td>Leverkusen</td>\n",
       "      <td>295000.0</td>\n",
       "      <td>multi_family_house</td>\n",
       "      <td>n</td>\n",
       "      <td>no_information</td>\n",
       "      <td>NaN</td>\n",
       "      <td>gas</td>\n",
       "      <td>central_heating</td>\n",
       "      <td>simple</td>\n",
       "      <td>NaN</td>\n",
       "      <td>258.0</td>\n",
       "      <td>230.0</td>\n",
       "      <td>NaN</td>\n",
       "      <td>7.0</td>\n",
       "      <td>2.0</td>\n",
       "      <td>53</td>\n",
       "      <td>6.77</td>\n",
       "      <td>6.77</td>\n",
       "      <td>0.19</td>\n",
       "      <td>n</td>\n",
       "      <td>100 MBit/s</td>\n",
       "      <td>NaN</td>\n",
       "      <td>NaN</td>\n",
       "      <td>NaN</td>\n",
       "      <td>NaN</td>\n",
       "      <td>15.109325</td>\n",
       "      <td>29561.0</td>\n",
       "      <td>1956.473899</td>\n",
       "      <td>-6.6</td>\n",
       "      <td>2038.4</td>\n",
       "      <td>56.8</td>\n",
       "      <td>-22.9</td>\n",
       "      <td>68.6</td>\n",
       "      <td>-13.5</td>\n",
       "      <td>20884</td>\n",
       "      <td>Köln</td>\n",
       "      <td>8.55</td>\n",
       "      <td>9.7</td>\n",
       "    </tr>\n",
       "    <tr>\n",
       "      <th>1</th>\n",
       "      <td>111439792</td>\n",
       "      <td>48488</td>\n",
       "      <td>3454</td>\n",
       "      <td>Niedersachsen</td>\n",
       "      <td>Emsland_Kreis</td>\n",
       "      <td>291000.0</td>\n",
       "      <td>single_family_house</td>\n",
       "      <td>n</td>\n",
       "      <td>well_kept</td>\n",
       "      <td>E</td>\n",
       "      <td>gas</td>\n",
       "      <td>central_heating</td>\n",
       "      <td>no_information</td>\n",
       "      <td>NaN</td>\n",
       "      <td>136.0</td>\n",
       "      <td>1594.0</td>\n",
       "      <td>3.0</td>\n",
       "      <td>4.0</td>\n",
       "      <td>NaN</td>\n",
       "      <td>19</td>\n",
       "      <td>9.68</td>\n",
       "      <td>9.68</td>\n",
       "      <td>2.04</td>\n",
       "      <td>n</td>\n",
       "      <td>50 MBit/s</td>\n",
       "      <td>154.0</td>\n",
       "      <td>NaN</td>\n",
       "      <td>1980.0</td>\n",
       "      <td>3.0</td>\n",
       "      <td>140.069215</td>\n",
       "      <td>9780.0</td>\n",
       "      <td>69.822623</td>\n",
       "      <td>59.9</td>\n",
       "      <td>108.6</td>\n",
       "      <td>57.5</td>\n",
       "      <td>59.4</td>\n",
       "      <td>41.1</td>\n",
       "      <td>3.2</td>\n",
       "      <td>20469</td>\n",
       "      <td>NaN</td>\n",
       "      <td>NaN</td>\n",
       "      <td>NaN</td>\n",
       "    </tr>\n",
       "    <tr>\n",
       "      <th>2</th>\n",
       "      <td>111439750</td>\n",
       "      <td>52477</td>\n",
       "      <td>5334</td>\n",
       "      <td>Nordrhein_Westfalen</td>\n",
       "      <td>Aachen_Kreis</td>\n",
       "      <td>410000.0</td>\n",
       "      <td>semidetached_house</td>\n",
       "      <td>y</td>\n",
       "      <td>well_kept</td>\n",
       "      <td>C</td>\n",
       "      <td>gas</td>\n",
       "      <td>central_heating</td>\n",
       "      <td>no_information</td>\n",
       "      <td>NaN</td>\n",
       "      <td>155.0</td>\n",
       "      <td>464.0</td>\n",
       "      <td>3.0</td>\n",
       "      <td>5.0</td>\n",
       "      <td>NaN</td>\n",
       "      <td>10</td>\n",
       "      <td>6.76</td>\n",
       "      <td>6.76</td>\n",
       "      <td>2.27</td>\n",
       "      <td>n</td>\n",
       "      <td>50 MBit/s</td>\n",
       "      <td>98.0</td>\n",
       "      <td>55.0</td>\n",
       "      <td>1993.0</td>\n",
       "      <td>5.0</td>\n",
       "      <td>31.654418</td>\n",
       "      <td>46553.0</td>\n",
       "      <td>1470.663590</td>\n",
       "      <td>-3.1</td>\n",
       "      <td>800.1</td>\n",
       "      <td>51.1</td>\n",
       "      <td>-26.2</td>\n",
       "      <td>49.8</td>\n",
       "      <td>-14.9</td>\n",
       "      <td>19781</td>\n",
       "      <td>Alsdorf</td>\n",
       "      <td>6.00</td>\n",
       "      <td>5.4</td>\n",
       "    </tr>\n",
       "    <tr>\n",
       "      <th>3</th>\n",
       "      <td>111439851</td>\n",
       "      <td>31241</td>\n",
       "      <td>3157</td>\n",
       "      <td>Niedersachsen</td>\n",
       "      <td>Peine_Kreis</td>\n",
       "      <td>299000.0</td>\n",
       "      <td>single_family_house</td>\n",
       "      <td>y</td>\n",
       "      <td>modernized</td>\n",
       "      <td>E</td>\n",
       "      <td>gas</td>\n",
       "      <td>central_heating</td>\n",
       "      <td>no_information</td>\n",
       "      <td>NaN</td>\n",
       "      <td>130.0</td>\n",
       "      <td>1010.0</td>\n",
       "      <td>1.0</td>\n",
       "      <td>7.0</td>\n",
       "      <td>2.0</td>\n",
       "      <td>37</td>\n",
       "      <td>6.94</td>\n",
       "      <td>6.94</td>\n",
       "      <td>1.19</td>\n",
       "      <td>n</td>\n",
       "      <td>100 MBit/s</td>\n",
       "      <td>159.5</td>\n",
       "      <td>50.0</td>\n",
       "      <td>1965.0</td>\n",
       "      <td>2.0</td>\n",
       "      <td>28.994730</td>\n",
       "      <td>11523.0</td>\n",
       "      <td>397.417048</td>\n",
       "      <td>77.6</td>\n",
       "      <td>245.8</td>\n",
       "      <td>59.2</td>\n",
       "      <td>49.7</td>\n",
       "      <td>41.3</td>\n",
       "      <td>-27.2</td>\n",
       "      <td>21203</td>\n",
       "      <td>Ilsede</td>\n",
       "      <td>NaN</td>\n",
       "      <td>NaN</td>\n",
       "    </tr>\n",
       "    <tr>\n",
       "      <th>4</th>\n",
       "      <td>111439746</td>\n",
       "      <td>52457</td>\n",
       "      <td>5358</td>\n",
       "      <td>Nordrhein_Westfalen</td>\n",
       "      <td>Düren_Kreis</td>\n",
       "      <td>320000.0</td>\n",
       "      <td>single_family_house</td>\n",
       "      <td>y</td>\n",
       "      <td>well_kept</td>\n",
       "      <td>C</td>\n",
       "      <td>gas</td>\n",
       "      <td>central_heating</td>\n",
       "      <td>no_information</td>\n",
       "      <td>2011.0</td>\n",
       "      <td>102.0</td>\n",
       "      <td>649.0</td>\n",
       "      <td>3.0</td>\n",
       "      <td>4.0</td>\n",
       "      <td>NaN</td>\n",
       "      <td>8</td>\n",
       "      <td>7.67</td>\n",
       "      <td>7.67</td>\n",
       "      <td>1.19</td>\n",
       "      <td>n</td>\n",
       "      <td>50 MBit/s</td>\n",
       "      <td>98.0</td>\n",
       "      <td>55.0</td>\n",
       "      <td>NaN</td>\n",
       "      <td>NaN</td>\n",
       "      <td>44.093991</td>\n",
       "      <td>13751.0</td>\n",
       "      <td>311.856552</td>\n",
       "      <td>1.0</td>\n",
       "      <td>284.4</td>\n",
       "      <td>54.4</td>\n",
       "      <td>-28.8</td>\n",
       "      <td>45.8</td>\n",
       "      <td>-22.8</td>\n",
       "      <td>20526</td>\n",
       "      <td>Aldenhofen, Gemeinde</td>\n",
       "      <td>NaN</td>\n",
       "      <td>NaN</td>\n",
       "    </tr>\n",
       "  </tbody>\n",
       "</table>\n",
       "</div>"
      ],
      "text/plain": [
       "     scoutId  zipCode  Schluessel                  bln            krs  \\\n",
       "0  111439855    51371        5316  Nordrhein_Westfalen     Leverkusen   \n",
       "1  111439792    48488        3454        Niedersachsen  Emsland_Kreis   \n",
       "2  111439750    52477        5334  Nordrhein_Westfalen   Aachen_Kreis   \n",
       "3  111439851    31241        3157        Niedersachsen    Peine_Kreis   \n",
       "4  111439746    52457        5358  Nordrhein_Westfalen    Düren_Kreis   \n",
       "\n",
       "   purchasePrice         buildingType cellar       condition  \\\n",
       "0       295000.0   multi_family_house      n  no_information   \n",
       "1       291000.0  single_family_house      n       well_kept   \n",
       "2       410000.0   semidetached_house      y       well_kept   \n",
       "3       299000.0  single_family_house      y      modernized   \n",
       "4       320000.0  single_family_house      y       well_kept   \n",
       "\n",
       "  energyEfficiencyClass firingTypes      heatingType    interiorQual  \\\n",
       "0                   NaN         gas  central_heating          simple   \n",
       "1                     E         gas  central_heating  no_information   \n",
       "2                     C         gas  central_heating  no_information   \n",
       "3                     E         gas  central_heating  no_information   \n",
       "4                     C         gas  central_heating  no_information   \n",
       "\n",
       "   lastRefurbish  livingSpace  lotArea  noParkSpaces  noRooms  numberOfFloors  \\\n",
       "0            NaN        258.0    230.0           NaN      7.0             2.0   \n",
       "1            NaN        136.0   1594.0           3.0      4.0             NaN   \n",
       "2            NaN        155.0    464.0           3.0      5.0             NaN   \n",
       "3            NaN        130.0   1010.0           1.0      7.0             2.0   \n",
       "4         2011.0        102.0    649.0           3.0      4.0             NaN   \n",
       "\n",
       "   picturecount  pricetrend  pricetrendbuy  pricetrendrent rented  \\\n",
       "0            53        6.77           6.77            0.19      n   \n",
       "1            19        9.68           9.68            2.04      n   \n",
       "2            10        6.76           6.76            2.27      n   \n",
       "3            37        6.94           6.94            1.19      n   \n",
       "4             8        7.67           7.67            1.19      n   \n",
       "\n",
       "  telekomInternet  thermalChar  usableArea  yearConstructed  \\\n",
       "0      100 MBit/s          NaN         NaN              NaN   \n",
       "1       50 MBit/s        154.0         NaN           1980.0   \n",
       "2       50 MBit/s         98.0        55.0           1993.0   \n",
       "3      100 MBit/s        159.5        50.0           1965.0   \n",
       "4       50 MBit/s         98.0        55.0              NaN   \n",
       "\n",
       "   yearConstructedRange         qkm  einwohner  bev_pro_km2  \\\n",
       "0                   NaN   15.109325    29561.0  1956.473899   \n",
       "1                   3.0  140.069215     9780.0    69.822623   \n",
       "2                   5.0   31.654418    46553.0  1470.663590   \n",
       "3                   2.0   28.994730    11523.0   397.417048   \n",
       "4                   NaN   44.093991    13751.0   311.856552   \n",
       "\n",
       "   wanderungssaldo16  bevoelkerungsdichte2016  beschaeftigtenquote2016  \\\n",
       "0               -6.6                   2038.4                     56.8   \n",
       "1               59.9                    108.6                     57.5   \n",
       "2               -3.1                    800.1                     51.1   \n",
       "3               77.6                    245.8                     59.2   \n",
       "4                1.0                    284.4                     54.4   \n",
       "\n",
       "   bevoelkerungsentwicklung2016  bruttoentgelteJeBeschaeftigte2016  \\\n",
       "0                         -22.9                               68.6   \n",
       "1                          59.4                               41.1   \n",
       "2                         -26.2                               49.8   \n",
       "3                          49.7                               41.3   \n",
       "4                         -28.8                               45.8   \n",
       "\n",
       "   geburtenGestorbenenueberschuss2016  verfuegbaresEinkommenJeEinwohner2016  \\\n",
       "0                               -13.5                                 20884   \n",
       "1                                 3.2                                 20469   \n",
       "2                               -14.9                                 19781   \n",
       "3                               -27.2                                 21203   \n",
       "4                               -22.8                                 20526   \n",
       "\n",
       "                 ms_key  ms_65qm  ms_100qm  \n",
       "0                  Köln     8.55       9.7  \n",
       "1                   NaN      NaN       NaN  \n",
       "2               Alsdorf     6.00       5.4  \n",
       "3                Ilsede      NaN       NaN  \n",
       "4  Aldenhofen, Gemeinde      NaN       NaN  "
      ]
     },
     "execution_count": 55,
     "metadata": {},
     "output_type": "execute_result"
    }
   ],
   "source": [
    "df_raw.head()"
   ]
  },
  {
   "cell_type": "code",
   "execution_count": 56,
   "metadata": {},
   "outputs": [],
   "source": [
    "def replace_shit(x, to_replace, replace_by):\n",
    "    if isinstance(x, str):\n",
    "        return [float(s) for s in x.split() if s.isdigit()][0]\n",
    "    else:\n",
    "        return np.nan\n",
    "    \n",
    "df_raw.telekomInternet = df_raw.apply(lambda x: replace_shit(x['telekomInternet'], ' MBit/s', ''), axis=1)"
   ]
  },
  {
   "cell_type": "markdown",
   "metadata": {},
   "source": [
    "# Univariate Analysis"
   ]
  },
  {
   "cell_type": "code",
   "execution_count": 57,
   "metadata": {},
   "outputs": [],
   "source": [
    "continuous_columns = ['purchasePrice', 'lastRefurbish', 'livingSpace', 'lotArea', 'noParkSpaces', \n",
    "                      'noRooms', 'numberOfFloors', 'picturecount', 'pricetrend', 'pricetrendbuy', \n",
    "                      'pricetrendrent', 'telekomInternet', 'thermalChar', 'usableArea', 'yearConstructed', \n",
    "                      'yearConstructedRange', 'qkm', 'einwohner', 'bev_pro_km2', 'wanderungssaldo16', \n",
    "                      'bevoelkerungsdichte2016', 'beschaeftigtenquote2016', 'bevoelkerungsentwicklung2016', \n",
    "                      'bruttoentgelteJeBeschaeftigte2016', 'geburtenGestorbenenueberschuss2016', \n",
    "                      'verfuegbaresEinkommenJeEinwohner2016', 'ms_65qm', 'ms_100qm']\n",
    "categorial_columns = ['buildingType', 'cellar', 'condition',  'energyEfficiencyClass', 'firingTypes', \n",
    "                      'heatingType', 'interiorQual', 'rented']"
   ]
  },
  {
   "cell_type": "markdown",
   "metadata": {},
   "source": [
    "## Continuous Variables\n",
    "understand the central tendency and spread of the variable\n",
    "\n",
    "Central Tendency:\n",
    "- Mean\n",
    "- Median\n",
    "- Min\n",
    "- Max\n",
    "\n",
    "Measurement of Disperation:\n",
    "- Range\n",
    "- Quartile\n",
    "- IQR\n",
    "- Variance\n",
    "- Standard Deviation\n",
    "- Skewness and Kurtosis\n",
    "\n",
    "Visualization:\n",
    "- Histogram\n",
    "- Boxplot"
   ]
  },
  {
   "cell_type": "code",
   "execution_count": 58,
   "metadata": {},
   "outputs": [],
   "source": [
    "def univariant_analysis_continuous(df, column_name, boxplot = True):\n",
    "    five_percent = df[column_name].quantile(q=0.05)\n",
    "    print(\"5% Quantile: \" + str(five_percent))\n",
    "    \n",
    "    first_quartile = df[column_name].quantile(q=0.25)\n",
    "    print(\"25% Quantile: \" + str(first_quartile))\n",
    "    \n",
    "    second_quartile = df[column_name].quantile(q=0.5)\n",
    "    print(\"50% Quantile: \" + str(second_quartile))\n",
    "    \n",
    "    third_quartile = df[column_name].quantile(q=0.75)\n",
    "    print(\"75% Quantile: \" + str(third_quartile))\n",
    "    \n",
    "    ninety_five_percent = df[column_name].quantile(q=0.95)\n",
    "    print(\"95% Quantile: \" + str(ninety_five_percent))\n",
    "    \n",
    "    std_dev = df[column_name].std(axis=0)\n",
    "    print(\"Std_dev: \" + str(std_dev))\n",
    "    \n",
    "    skew = df[column_name].skew(axis=0)\n",
    "    print(\"Skewness: \" + str(skew))\n",
    "    \n",
    "    kurtosis = df[column_name].kurtosis(axis=0)\n",
    "    print(\"Kurtosis: \" + str(kurtosis))\n",
    "    \n",
    "    mean = df[column_name].mean(axis=0)\n",
    "    print(\"Mean: \" + str(mean))\n",
    "\n",
    "    median = df[column_name].median(axis=0)\n",
    "    print(\"Median: \" + str(median))\n",
    "\n",
    "    max_val = df[column_name].max(axis=0, skipna=True)\n",
    "    print(\"Max: \" + str(max_val))\n",
    "\n",
    "    min_val = df[column_name].min(axis=0, skipna=True)\n",
    "    print(\"Min: \" + str(min_val))\n",
    "    \n",
    "    relative_nan = (df[column_name].isna().sum())/len(df[column_name])\n",
    "    print(\"Nan's (relative): {}%\".format(relative_nan))\n",
    "    \n",
    "    print(\"Name: \" + column_name + ', dtype: ' + str(df[column_name].dtypes))\n",
    "    \n",
    "    if boxplot:\n",
    "        df_selected_by_quartile = df.loc[(df[column_name] > five_percent) & (df[column_name] < ninety_five_percent)]\n",
    "        plt.boxplot(df_selected_by_quartile[column_name])\n",
    "        plt.show()"
   ]
  },
  {
   "cell_type": "markdown",
   "metadata": {},
   "source": [
    "### Describe Bundesland"
   ]
  },
  {
   "cell_type": "code",
   "execution_count": 59,
   "metadata": {},
   "outputs": [],
   "source": [
    "states = ['Nordrhein_Westfalen', 'Niedersachsen', 'Bayern', \n",
    "          'Baden_Württemberg', 'Rheinland_Pfalz', 'Hessen', \n",
    "          'Schleswig_Holstein', 'Sachsen', 'Brandenburg', \n",
    "          'Mecklenburg_Vorpommern', 'Sachsen_Anhalt', 'Saarland', \n",
    "          'Thüringen', 'Berlin', 'Hamburg', 'Bremen']"
   ]
  },
  {
   "cell_type": "code",
   "execution_count": 60,
   "metadata": {},
   "outputs": [
    {
     "data": {
      "text/plain": [
       "<matplotlib.axes._subplots.AxesSubplot at 0x1a44ea17b8>"
      ]
     },
     "execution_count": 60,
     "metadata": {},
     "output_type": "execute_result"
    },
    {
     "data": {
      "image/png": "[encoded data removed]",
      "text/plain": [
       "<Figure size 432x288 with 1 Axes>"
      ]
     },
     "metadata": {
      "needs_background": "light"
     },
     "output_type": "display_data"
    }
   ],
   "source": [
    "df_raw.bln.value_counts(normalize=True).plot(kind=\"bar\")"
   ]
  },
  {
   "cell_type": "markdown",
   "metadata": {},
   "source": [
    "### Describe all other continuous variables"
   ]
  },
  {
   "cell_type": "code",
   "execution_count": 61,
   "metadata": {},
   "outputs": [
    {
     "name": "stdout",
     "output_type": "stream",
     "text": [
      "5% Quantile: 69000.0\n",
      "25% Quantile: 218000.0\n",
      "50% Quantile: 350000.0\n",
      "75% Quantile: 556825.25\n",
      "95% Quantile: 1299000.0\n",
      "Std_dev: 33228846.4975051\n",
      "Skewness: 300.5114685491085\n",
      "Kurtosis: 90430.10102423289\n",
      "Mean: 605032.8511961052\n",
      "Median: 350000.0\n",
      "Max: 10000000000.0\n",
      "Min: 0.0\n",
      "Nan's (relative): 0.0%\n",
      "Name: purchasePrice, dtype: float64\n"
     ]
    },
    {
     "data": {
      "image/png": "[encoded data removed]",
      "text/plain": [
       "<Figure size 432x288 with 1 Axes>"
      ]
     },
     "metadata": {
      "needs_background": "light"
     },
     "output_type": "display_data"
    },
    {
     "name": "stdout",
     "output_type": "stream",
     "text": [
      "###############################\n",
      "\n",
      "5% Quantile: 1990.0\n",
      "25% Quantile: 2004.0\n",
      "50% Quantile: 2013.0\n",
      "75% Quantile: 2017.0\n",
      "95% Quantile: 2019.0\n",
      "Std_dev: 16.335500605640508\n",
      "Skewness: -0.7528358515971915\n",
      "Kurtosis: 1937.673346200199\n",
      "Mean: 2009.1398282228954\n",
      "Median: 2013.0\n",
      "Max: 3003.0\n",
      "Min: 1018.0\n",
      "Nan's (relative): 0.7342368171492843%\n",
      "Name: lastRefurbish, dtype: float64\n"
     ]
    },
    {
     "data": {
      "image/png": "[encoded data removed]",
      "text/plain": [
       "<Figure size 432x288 with 1 Axes>"
      ]
     },
     "metadata": {
      "needs_background": "light"
     },
     "output_type": "display_data"
    },
    {
     "name": "stdout",
     "output_type": "stream",
     "text": [
      "###############################\n",
      "\n",
      "5% Quantile: 88.0\n",
      "25% Quantile: 125.65\n",
      "50% Quantile: 160.8\n",
      "75% Quantile: 230.0475\n",
      "95% Quantile: 442.4775\n",
      "Std_dev: 1037.188754818537\n",
      "Skewness: 201.93936868857335\n",
      "Kurtosis: 43438.23689762977\n",
      "Mean: 212.51887634254462\n",
      "Median: 160.8\n",
      "Max: 241000.0\n",
      "Min: 0.0\n",
      "Nan's (relative): 0.0%\n",
      "Name: livingSpace, dtype: float64\n"
     ]
    },
    {
     "data": {
      "image/png": "[encoded data removed]",
      "text/plain": [
       "<Figure size 432x288 with 1 Axes>"
      ]
     },
     "metadata": {
      "needs_background": "light"
     },
     "output_type": "display_data"
    },
    {
     "name": "stdout",
     "output_type": "stream",
     "text": [
      "###############################\n",
      "\n",
      "5% Quantile: 167.0\n",
      "25% Quantile: 380.0\n",
      "50% Quantile: 640.0\n",
      "75% Quantile: 1004.0\n",
      "95% Quantile: 3379.25\n",
      "Std_dev: 10502.924650987356\n",
      "Skewness: 70.82676165508023\n",
      "Kurtosis: 8094.003172334721\n",
      "Mean: 1488.9945202126019\n",
      "Median: 640.0\n",
      "Max: 1610000.0\n",
      "Min: 0.0\n",
      "Nan's (relative): 0.0%\n",
      "Name: lotArea, dtype: float64\n"
     ]
    },
    {
     "data": {
      "image/png": "[encoded data removed]",
      "text/plain": [
       "<Figure size 432x288 with 1 Axes>"
      ]
     },
     "metadata": {
      "needs_background": "light"
     },
     "output_type": "display_data"
    },
    {
     "name": "stdout",
     "output_type": "stream",
     "text": [
      "###############################\n",
      "\n",
      "5% Quantile: 1.0\n",
      "25% Quantile: 1.0\n",
      "50% Quantile: 2.0\n",
      "75% Quantile: 3.0\n",
      "95% Quantile: 6.0\n",
      "Std_dev: 10.490406341822638\n",
      "Skewness: 190.89530665054548\n",
      "Kurtosis: 41190.6392992959\n",
      "Mean: 2.5794640630011045\n",
      "Median: 2.0\n",
      "Max: 2300.0\n",
      "Min: 0.0\n",
      "Nan's (relative): 0.38109520763954746%\n",
      "Name: noParkSpaces, dtype: float64\n"
     ]
    },
    {
     "data": {
      "image/png": "[encoded data removed]",
      "text/plain": [
       "<Figure size 432x288 with 1 Axes>"
      ]
     },
     "metadata": {
      "needs_background": "light"
     },
     "output_type": "display_data"
    },
    {
     "name": "stdout",
     "output_type": "stream",
     "text": [
      "###############################\n",
      "\n",
      "5% Quantile: 3.0\n",
      "25% Quantile: 4.5\n",
      "50% Quantile: 6.0\n",
      "75% Quantile: 8.0\n",
      "95% Quantile: 15.0\n",
      "Std_dev: 8.720467721638926\n",
      "Skewness: 57.69071608195897\n",
      "Kurtosis: 5795.7657071160265\n",
      "Mean: 7.094520653684142\n",
      "Median: 6.0\n",
      "Max: 999.0\n",
      "Min: 1.0\n",
      "Nan's (relative): 0.0%\n",
      "Name: noRooms, dtype: float64\n"
     ]
    },
    {
     "data": {
      "image/png": "[encoded data removed]",
      "text/plain": [
       "<Figure size 432x288 with 1 Axes>"
      ]
     },
     "metadata": {
      "needs_background": "light"
     },
     "output_type": "display_data"
    },
    {
     "name": "stdout",
     "output_type": "stream",
     "text": [
      "###############################\n",
      "\n",
      "5% Quantile: 1.0\n",
      "25% Quantile: 2.0\n",
      "50% Quantile: 2.0\n",
      "75% Quantile: 3.0\n",
      "95% Quantile: 4.0\n",
      "Std_dev: 2.1783012118036837\n",
      "Skewness: 100.14134665709669\n",
      "Kurtosis: 13058.500563982663\n",
      "Mean: 2.271747695217083\n",
      "Median: 2.0\n",
      "Max: 333.0\n",
      "Min: 0.0\n",
      "Nan's (relative): 0.44022230553778974%\n",
      "Name: numberOfFloors, dtype: float64\n"
     ]
    },
    {
     "data": {
      "image/png": "[encoded data removed]",
      "text/plain": [
       "<Figure size 432x288 with 1 Axes>"
      ]
     },
     "metadata": {
      "needs_background": "light"
     },
     "output_type": "display_data"
    },
    {
     "name": "stdout",
     "output_type": "stream",
     "text": [
      "###############################\n",
      "\n",
      "5% Quantile: 1.0\n",
      "25% Quantile: 8.0\n",
      "50% Quantile: 14.0\n",
      "75% Quantile: 20.0\n",
      "95% Quantile: 35.0\n",
      "Std_dev: 10.961283356057306\n",
      "Skewness: 1.949324172304156\n",
      "Kurtosis: 9.122091261291958\n",
      "Mean: 15.261672143440002\n",
      "Median: 14.0\n",
      "Max: 150\n",
      "Min: 0\n",
      "Nan's (relative): 0.0%\n",
      "Name: picturecount, dtype: int64\n"
     ]
    },
    {
     "data": {
      "image/png": "[encoded data removed]",
      "text/plain": [
       "<Figure size 432x288 with 1 Axes>"
      ]
     },
     "metadata": {
      "needs_background": "light"
     },
     "output_type": "display_data"
    },
    {
     "name": "stdout",
     "output_type": "stream",
     "text": [
      "###############################\n",
      "\n",
      "5% Quantile: 1.95\n",
      "25% Quantile: 5.98\n",
      "50% Quantile: 7.95\n",
      "75% Quantile: 9.96\n",
      "95% Quantile: 13.55\n",
      "Std_dev: 3.512502913963326\n",
      "Skewness: -0.16462053543575336\n",
      "Kurtosis: 1.4322278018788248\n",
      "Mean: 7.930353037658233\n",
      "Median: 7.95\n",
      "Max: 24.4\n",
      "Min: -11.2\n",
      "Nan's (relative): 0.1663432062280837%\n",
      "Name: pricetrend, dtype: float64\n"
     ]
    },
    {
     "data": {
      "image/png": "[encoded data removed]",
      "text/plain": [
       "<Figure size 432x288 with 1 Axes>"
      ]
     },
     "metadata": {
      "needs_background": "light"
     },
     "output_type": "display_data"
    },
    {
     "name": "stdout",
     "output_type": "stream",
     "text": [
      "###############################\n",
      "\n",
      "5% Quantile: 1.99\n",
      "25% Quantile: 5.99\n",
      "50% Quantile: 7.96\n",
      "75% Quantile: 9.96\n",
      "95% Quantile: 13.57\n",
      "Std_dev: 3.5037216884649083\n",
      "Skewness: -0.15279000653298735\n",
      "Kurtosis: 1.4223324224308063\n",
      "Mean: 7.942613169821382\n",
      "Median: 7.96\n",
      "Max: 24.4\n",
      "Min: -11.2\n",
      "Nan's (relative): 0.17274992832410735%\n",
      "Name: pricetrendbuy, dtype: float64\n"
     ]
    },
    {
     "data": {
      "image/png": "[encoded data removed]",
      "text/plain": [
       "<Figure size 432x288 with 1 Axes>"
      ]
     },
     "metadata": {
      "needs_background": "light"
     },
     "output_type": "display_data"
    },
    {
     "name": "stdout",
     "output_type": "stream",
     "text": [
      "###############################\n",
      "\n",
      "5% Quantile: -2.84\n",
      "25% Quantile: 1.68\n",
      "50% Quantile: 3.62\n",
      "75% Quantile: 5.14\n",
      "95% Quantile: 7.95\n",
      "Std_dev: 3.4386555637604075\n",
      "Skewness: -0.4993080949932392\n",
      "Kurtosis: 4.371253099836474\n",
      "Mean: 3.2621351316468767\n",
      "Median: 3.62\n",
      "Max: 30.25\n",
      "Min: -22.12\n",
      "Nan's (relative): 0.14562335972476456%\n",
      "Name: pricetrendrent, dtype: float64\n"
     ]
    },
    {
     "data": {
      "image/png": "[encoded data removed]",
      "text/plain": [
       "<Figure size 432x288 with 1 Axes>"
      ]
     },
     "metadata": {
      "needs_background": "light"
     },
     "output_type": "display_data"
    },
    {
     "name": "stdout",
     "output_type": "stream",
     "text": [
      "###############################\n",
      "\n",
      "5% Quantile: 16.0\n",
      "25% Quantile: 50.0\n",
      "50% Quantile: 100.0\n",
      "75% Quantile: 100.0\n",
      "95% Quantile: 100.0\n",
      "Std_dev: 36.21190766427643\n",
      "Skewness: 1.9558682024746976\n",
      "Kurtosis: 18.669186037443694\n",
      "Mean: 75.35891535198381\n",
      "Median: 100.0\n",
      "Max: 384.0\n",
      "Min: 2.0\n",
      "Nan's (relative): 0.20457402465650706%\n",
      "Name: telekomInternet, dtype: float64\n"
     ]
    },
    {
     "data": {
      "image/png": "[encoded data removed]",
      "text/plain": [
       "<Figure size 432x288 with 1 Axes>"
      ]
     },
     "metadata": {
      "needs_background": "light"
     },
     "output_type": "display_data"
    },
    {
     "name": "stdout",
     "output_type": "stream",
     "text": [
      "###############################\n",
      "\n",
      "5% Quantile: 32.03150000000001\n",
      "25% Quantile: 95.0\n",
      "50% Quantile: 144.6\n",
      "75% Quantile: 208.0\n",
      "95% Quantile: 329.0\n",
      "Std_dev: 96.09163583747316\n",
      "Skewness: 2.125010743213178\n",
      "Kurtosis: 19.42203725733747\n",
      "Mean: 159.33408555960926\n",
      "Median: 144.6\n",
      "Max: 1999.99\n",
      "Min: 0.01\n",
      "Nan's (relative): 0.4378184063692301%\n",
      "Name: thermalChar, dtype: float64\n"
     ]
    },
    {
     "data": {
      "image/png": "[encoded data removed]",
      "text/plain": [
       "<Figure size 432x288 with 1 Axes>"
      ]
     },
     "metadata": {
      "needs_background": "light"
     },
     "output_type": "display_data"
    },
    {
     "name": "stdout",
     "output_type": "stream",
     "text": [
      "###############################\n",
      "\n",
      "5% Quantile: 12.0\n",
      "25% Quantile: 44.0\n",
      "50% Quantile: 80.0\n",
      "75% Quantile: 143.0\n",
      "95% Quantile: 396.0\n",
      "Std_dev: 539.4528402754804\n",
      "Skewness: 52.038075593430015\n",
      "Kurtosis: 3378.0124907535123\n",
      "Mean: 136.7407063931571\n",
      "Median: 80.0\n",
      "Max: 43053.0\n",
      "Min: 0.0\n",
      "Nan's (relative): 0.5758661755949099%\n",
      "Name: usableArea, dtype: float64\n"
     ]
    },
    {
     "data": {
      "image/png": "[encoded data removed]",
      "text/plain": [
       "<Figure size 432x288 with 1 Axes>"
      ]
     },
     "metadata": {
      "needs_background": "light"
     },
     "output_type": "display_data"
    },
    {
     "name": "stdout",
     "output_type": "stream",
     "text": [
      "###############################\n",
      "\n",
      "5% Quantile: 1886.0\n",
      "25% Quantile: 1937.0\n",
      "50% Quantile: 1972.0\n",
      "75% Quantile: 1999.0\n",
      "95% Quantile: 2019.0\n",
      "Std_dev: 57.07274385653488\n",
      "Skewness: 0.7480541200403649\n",
      "Kurtosis: 202.04905625353376\n",
      "Mean: 1962.3482523763191\n",
      "Median: 1972.0\n",
      "Max: 5410.0\n",
      "Min: 1000.0\n",
      "Nan's (relative): 0.11600467547361225%\n",
      "Name: yearConstructed, dtype: float64\n"
     ]
    },
    {
     "data": {
      "image/png": "[encoded data removed]",
      "text/plain": [
       "<Figure size 432x288 with 1 Axes>"
      ]
     },
     "metadata": {
      "needs_background": "light"
     },
     "output_type": "display_data"
    },
    {
     "name": "stdout",
     "output_type": "stream",
     "text": [
      "###############################\n",
      "\n",
      "5% Quantile: 1.0\n",
      "25% Quantile: 1.0\n",
      "50% Quantile: 3.0\n",
      "75% Quantile: 5.0\n",
      "95% Quantile: 9.0\n",
      "Std_dev: 2.750352525272441\n",
      "Skewness: 0.832825450099514\n",
      "Kurtosis: -0.633936304422253\n",
      "Mean: 3.6656687373699572\n",
      "Median: 3.0\n",
      "Max: 9.0\n",
      "Min: 1.0\n",
      "Nan's (relative): 0.11600467547361225%\n",
      "Name: yearConstructedRange, dtype: float64\n"
     ]
    },
    {
     "data": {
      "image/png": "[encoded data removed]",
      "text/plain": [
       "<Figure size 432x288 with 1 Axes>"
      ]
     },
     "metadata": {
      "needs_background": "light"
     },
     "output_type": "display_data"
    },
    {
     "name": "stdout",
     "output_type": "stream",
     "text": [
      "###############################\n",
      "\n",
      "5% Quantile: 6.1493730000000015\n",
      "25% Quantile: 20.407066\n",
      "50% Quantile: 43.790439\n",
      "75% Quantile: 80.712574\n",
      "95% Quantile: 182.10711799999996\n",
      "Std_dev: 69.05482370523967\n",
      "Skewness: 3.5344418195309673\n",
      "Kurtosis: 22.232772782994203\n",
      "Mean: 63.20271226211752\n",
      "Median: 43.790439\n",
      "Max: 891.885953\n",
      "Min: 0.46930900000000003\n",
      "Nan's (relative): 0.005359151357431136%\n",
      "Name: qkm, dtype: float64\n"
     ]
    },
    {
     "data": {
      "image/png": "[encoded data removed]",
      "text/plain": [
       "<Figure size 432x288 with 1 Axes>"
      ]
     },
     "metadata": {
      "needs_background": "light"
     },
     "output_type": "display_data"
    },
    {
     "name": "stdout",
     "output_type": "stream",
     "text": [
      "###############################\n",
      "\n",
      "5% Quantile: 2340.0\n",
      "25% Quantile: 7063.0\n",
      "50% Quantile: 13868.0\n",
      "75% Quantile: 21658.0\n",
      "95% Quantile: 37735.0\n",
      "Std_dev: 10732.185558845791\n",
      "Skewness: 0.9473373557976605\n",
      "Kurtosis: 0.7071804016364678\n",
      "Mean: 15721.880776053215\n",
      "Median: 13868.0\n",
      "Max: 58826.0\n",
      "Min: 14.0\n",
      "Nan's (relative): 0.005359151357431136%\n",
      "Name: einwohner, dtype: float64\n"
     ]
    },
    {
     "data": {
      "image/png": "[encoded data removed]",
      "text/plain": [
       "<Figure size 432x288 with 1 Axes>"
      ]
     },
     "metadata": {
      "needs_background": "light"
     },
     "output_type": "display_data"
    },
    {
     "name": "stdout",
     "output_type": "stream",
     "text": [
      "###############################\n",
      "\n",
      "5% Quantile: 48.01107767335862\n",
      "25% Quantile: 118.13856948310159\n",
      "50% Quantile: 258.454298931249\n",
      "75% Quantile: 709.1155948953058\n",
      "95% Quantile: 2953.4751830179825\n",
      "Std_dev: 1227.256795457456\n",
      "Skewness: 5.005874336386949\n",
      "Kurtosis: 41.12433228837541\n",
      "Mean: 695.760350291376\n",
      "Median: 258.454298931249\n",
      "Max: 26718.627018102936\n",
      "Min: 6.7628962392983185\n",
      "Nan's (relative): 0.005359151357431136%\n",
      "Name: bev_pro_km2, dtype: float64\n"
     ]
    },
    {
     "data": {
      "image/png": "[encoded data removed]",
      "text/plain": [
       "<Figure size 432x288 with 1 Axes>"
      ]
     },
     "metadata": {
      "needs_background": "light"
     },
     "output_type": "display_data"
    },
    {
     "name": "stdout",
     "output_type": "stream",
     "text": [
      "###############################\n",
      "\n",
      "5% Quantile: -34.6\n",
      "25% Quantile: 21.2\n",
      "50% Quantile: 58.2\n",
      "75% Quantile: 91.3\n",
      "95% Quantile: 127.8\n",
      "Std_dev: 53.452708484976476\n",
      "Skewness: -0.4066947350804407\n",
      "Kurtosis: 1.7304814570942533\n",
      "Mean: 54.15519815627551\n",
      "Median: 58.2\n",
      "Max: 343.6\n",
      "Min: -397.1\n",
      "Nan's (relative): 0.0%\n",
      "Name: wanderungssaldo16, dtype: float64\n"
     ]
    },
    {
     "data": {
      "image/png": "[encoded data removed]",
      "text/plain": [
       "<Figure size 432x288 with 1 Axes>"
      ]
     },
     "metadata": {
      "needs_background": "light"
     },
     "output_type": "display_data"
    },
    {
     "name": "stdout",
     "output_type": "stream",
     "text": [
      "###############################\n",
      "\n",
      "5% Quantile: 77.1\n",
      "25% Quantile: 123.4\n",
      "50% Quantile: 198.3\n",
      "75% Quantile: 426.3\n",
      "95% Quantile: 1216.3\n",
      "Std_dev: 500.64043256666497\n",
      "Skewness: 3.6915632091879025\n",
      "Kurtosis: 17.316494629606517\n",
      "Mean: 375.5666708834556\n",
      "Median: 198.3\n",
      "Max: 4355.3\n",
      "Min: 38.6\n",
      "Nan's (relative): 0.04115298943607613%\n",
      "Name: bevoelkerungsdichte2016, dtype: float64\n"
     ]
    },
    {
     "data": {
      "image/png": "[encoded data removed]",
      "text/plain": [
       "<Figure size 432x288 with 1 Axes>"
      ]
     },
     "metadata": {
      "needs_background": "light"
     },
     "output_type": "display_data"
    },
    {
     "name": "stdout",
     "output_type": "stream",
     "text": [
      "###############################\n",
      "\n",
      "5% Quantile: 52.2\n",
      "25% Quantile: 56.5\n",
      "50% Quantile: 58.5\n",
      "75% Quantile: 61.2\n",
      "95% Quantile: 63.7\n",
      "Std_dev: 5.186335203084088\n",
      "Skewness: -5.731818322929696\n",
      "Kurtosis: 60.74861768894614\n",
      "Mean: 58.233529982577245\n",
      "Median: 58.5\n",
      "Max: 67.8\n",
      "Min: 0.0\n",
      "Nan's (relative): 0.0%\n",
      "Name: beschaeftigtenquote2016, dtype: float64\n"
     ]
    },
    {
     "data": {
      "image/png": "[encoded data removed]",
      "text/plain": [
       "<Figure size 432x288 with 1 Axes>"
      ]
     },
     "metadata": {
      "needs_background": "light"
     },
     "output_type": "display_data"
    },
    {
     "name": "stdout",
     "output_type": "stream",
     "text": [
      "###############################\n",
      "\n",
      "5% Quantile: -78.1\n",
      "25% Quantile: -18.3\n",
      "50% Quantile: 33.7\n",
      "75% Quantile: 70.6\n",
      "95% Quantile: 114.9\n",
      "Std_dev: 63.58943913074237\n",
      "Skewness: -0.43302770936183965\n",
      "Kurtosis: 1.1822041700427244\n",
      "Mean: 26.023371854531018\n",
      "Median: 33.7\n",
      "Max: 323.6\n",
      "Min: -426.9\n",
      "Nan's (relative): 0.0%\n",
      "Name: bevoelkerungsentwicklung2016, dtype: float64\n"
     ]
    },
    {
     "data": {
      "image/png": "[encoded data removed]",
      "text/plain": [
       "<Figure size 432x288 with 1 Axes>"
      ]
     },
     "metadata": {
      "needs_background": "light"
     },
     "output_type": "display_data"
    },
    {
     "name": "stdout",
     "output_type": "stream",
     "text": [
      "###############################\n",
      "\n",
      "5% Quantile: 30.0\n",
      "25% Quantile: 37.0\n",
      "50% Quantile: 43.1\n",
      "75% Quantile: 47.3\n",
      "95% Quantile: 56.5\n",
      "Std_dev: 8.39951001215484\n",
      "Skewness: 0.5693018647197956\n",
      "Kurtosis: 1.2182278758165062\n",
      "Mean: 42.740416950693024\n",
      "Median: 43.1\n",
      "Max: 84.4\n",
      "Min: 24.7\n",
      "Nan's (relative): 0.02939814304302759%\n",
      "Name: bruttoentgelteJeBeschaeftigte2016, dtype: float64\n"
     ]
    },
    {
     "data": {
      "image/png": "[encoded data removed]",
      "text/plain": [
       "<Figure size 432x288 with 1 Axes>"
      ]
     },
     "metadata": {
      "needs_background": "light"
     },
     "output_type": "display_data"
    },
    {
     "name": "stdout",
     "output_type": "stream",
     "text": [
      "###############################\n",
      "\n",
      "5% Quantile: -66.5\n",
      "25% Quantile: -40.4\n",
      "50% Quantile: -26.1\n",
      "75% Quantile: -8.4\n",
      "95% Quantile: 13.0\n",
      "Std_dev: 23.81656291298489\n",
      "Skewness: -0.1488473336988868\n",
      "Kurtosis: -0.03258949496010288\n",
      "Mean: -25.405792514831397\n",
      "Median: -26.1\n",
      "Max: 48.6\n",
      "Min: -88.4\n",
      "Nan's (relative): 0.0%\n",
      "Name: geburtenGestorbenenueberschuss2016, dtype: float64\n"
     ]
    },
    {
     "data": {
      "image/png": "[encoded data removed]",
      "text/plain": [
       "<Figure size 432x288 with 1 Axes>"
      ]
     },
     "metadata": {
      "needs_background": "light"
     },
     "output_type": "display_data"
    },
    {
     "name": "stdout",
     "output_type": "stream",
     "text": [
      "###############################\n",
      "\n",
      "5% Quantile: 18287.0\n",
      "25% Quantile: 20068.0\n",
      "50% Quantile: 21815.0\n",
      "75% Quantile: 23380.0\n",
      "95% Quantile: 25295.0\n",
      "Std_dev: 2445.7093924310634\n",
      "Skewness: 1.0294085801262862\n",
      "Kurtosis: 3.4072891455985257\n",
      "Mean: 21969.154533224533\n",
      "Median: 21815.0\n",
      "Max: 34987\n",
      "Min: 16203\n",
      "Nan's (relative): 0.0%\n",
      "Name: verfuegbaresEinkommenJeEinwohner2016, dtype: int64\n"
     ]
    },
    {
     "data": {
      "image/png": "[encoded data removed]",
      "text/plain": [
       "<Figure size 432x288 with 1 Axes>"
      ]
     },
     "metadata": {
      "needs_background": "light"
     },
     "output_type": "display_data"
    },
    {
     "name": "stdout",
     "output_type": "stream",
     "text": [
      "###############################\n",
      "\n",
      "5% Quantile: 4.3\n",
      "25% Quantile: 5.428333333333334\n",
      "50% Quantile: 6.6933333333333325\n",
      "75% Quantile: 8.03\n",
      "95% Quantile: 10.09\n",
      "Std_dev: 1.794190087744628\n",
      "Skewness: 0.3074474220298443\n",
      "Kurtosis: -0.6938814204852948\n",
      "Mean: 6.858674111019875\n",
      "Median: 6.6933333333333325\n",
      "Max: 12.76\n",
      "Min: 1.125\n",
      "Nan's (relative): 0.5905762741768299%\n",
      "Name: ms_65qm, dtype: float64\n"
     ]
    },
    {
     "data": {
      "image/png": "[encoded data removed]",
      "text/plain": [
       "<Figure size 432x288 with 1 Axes>"
      ]
     },
     "metadata": {
      "needs_background": "light"
     },
     "output_type": "display_data"
    },
    {
     "name": "stdout",
     "output_type": "stream",
     "text": [
      "###############################\n",
      "\n",
      "5% Quantile: 5.03\n",
      "25% Quantile: 6.08\n",
      "50% Quantile: 7.12\n",
      "75% Quantile: 8.66\n",
      "95% Quantile: 10.59\n",
      "Std_dev: 1.694972078906966\n",
      "Skewness: 0.3001952358507131\n",
      "Kurtosis: -0.8589318394340921\n",
      "Mean: 7.447587170396149\n",
      "Median: 7.12\n",
      "Max: 12.06\n",
      "Min: 2.65\n",
      "Nan's (relative): 0.6070837836049666%\n",
      "Name: ms_100qm, dtype: float64\n"
     ]
    },
    {
     "data": {
      "image/png": "[encoded data removed]",
      "text/plain": [
       "<Figure size 432x288 with 1 Axes>"
      ]
     },
     "metadata": {
      "needs_background": "light"
     },
     "output_type": "display_data"
    },
    {
     "name": "stdout",
     "output_type": "stream",
     "text": [
      "###############################\n",
      "\n"
     ]
    }
   ],
   "source": [
    "for column_name in continuous_columns:\n",
    "    univariant_analysis_continuous(df_raw, column_name)\n",
    "    print('###############################\\n')"
   ]
  },
  {
   "cell_type": "code",
   "execution_count": 62,
   "metadata": {},
   "outputs": [],
   "source": [
    "def truncate_by_quantile(df, column_name, lower_quantile, upper_quantile):\n",
    "    \"\"\"\n",
    "        lower_quantile, upper_quantile: As decimal number\n",
    "    \"\"\"\n",
    "    lower_quantile_value = df_raw[column_name].quantile(q=lower_quantile)\n",
    "    upper_quantile_value = df_raw[column_name].quantile(q=upper_quantile)\n",
    "    print(\"Quantile {0:.0%}: \".format(lower_quantile) + str(lower_quantile_value))\n",
    "    print(\"Quantile {0:.0%}: \".format(upper_quantile) + str(upper_quantile_value))\n",
    "    \n",
    "    df = df.loc[(df[column_name] >= lower_quantile_value) & (df[column_name] <= upper_quantile_value) | np.isnan(df[column_name])]\n",
    "    print(\"Shape new DataFrame: \" + str(df.shape))\n",
    "    return df"
   ]
  },
  {
   "cell_type": "markdown",
   "metadata": {},
   "source": [
    "### Remove Outliers"
   ]
  },
  {
   "cell_type": "markdown",
   "metadata": {},
   "source": [
    "#### purchasePrice "
   ]
  },
  {
   "cell_type": "code",
   "execution_count": 63,
   "metadata": {},
   "outputs": [
    {
     "name": "stdout",
     "output_type": "stream",
     "text": [
      "Quantile 5%: 69000.0\n",
      "Quantile 95%: 1299000.0\n",
      "Shape new DataFrame: (81793, 42)\n"
     ]
    }
   ],
   "source": [
    "df_cleaned = truncate_by_quantile(df_raw, 'purchasePrice', 0.05, 0.95)"
   ]
  },
  {
   "cell_type": "markdown",
   "metadata": {},
   "source": [
    "#### lastRefurbish"
   ]
  },
  {
   "cell_type": "code",
   "execution_count": 64,
   "metadata": {},
   "outputs": [
    {
     "name": "stdout",
     "output_type": "stream",
     "text": [
      "Quantile 1%: 1974.0\n",
      "Quantile 99%: 2019.0\n",
      "Shape new DataFrame: (81558, 42)\n"
     ]
    }
   ],
   "source": [
    "df_cleaned = truncate_by_quantile(df_cleaned, 'lastRefurbish', 0.01, 0.99)"
   ]
  },
  {
   "cell_type": "markdown",
   "metadata": {},
   "source": [
    "How do I handle a renovation that has not been done?  \n",
    "Replace nan with constructionYear"
   ]
  },
  {
   "cell_type": "code",
   "execution_count": 65,
   "metadata": {},
   "outputs": [],
   "source": [
    "nan_idx = df_cleaned['lastRefurbish'].index[df_cleaned['lastRefurbish'].apply(np.isnan)]\n",
    "df_cleaned.lastRefurbish = df_cleaned.lastRefurbish.fillna(df_cleaned.yearConstructed[nan_idx])"
   ]
  },
  {
   "cell_type": "markdown",
   "metadata": {},
   "source": [
    "#### livingSpace"
   ]
  },
  {
   "cell_type": "code",
   "execution_count": 66,
   "metadata": {},
   "outputs": [
    {
     "name": "stdout",
     "output_type": "stream",
     "text": [
      "Quantile 1%: 53.0\n",
      "Quantile 99%: 870.8409999999852\n",
      "Shape new DataFrame: (80708, 42)\n"
     ]
    }
   ],
   "source": [
    "df_cleaned = truncate_by_quantile(df_cleaned, 'livingSpace', 0.01, 0.99)"
   ]
  },
  {
   "cell_type": "markdown",
   "metadata": {},
   "source": [
    "#### lotArea"
   ]
  },
  {
   "cell_type": "code",
   "execution_count": 67,
   "metadata": {},
   "outputs": [
    {
     "name": "stdout",
     "output_type": "stream",
     "text": [
      "Quantile 1%: 77.0\n",
      "Quantile 99%: 15269.749999999854\n",
      "Shape new DataFrame: (79354, 42)\n"
     ]
    }
   ],
   "source": [
    "df_cleaned = truncate_by_quantile(df_cleaned, 'lotArea', 0.01, 0.99)"
   ]
  },
  {
   "cell_type": "markdown",
   "metadata": {},
   "source": [
    "#### noParkSpaces"
   ]
  },
  {
   "cell_type": "code",
   "execution_count": 68,
   "metadata": {},
   "outputs": [
    {
     "name": "stdout",
     "output_type": "stream",
     "text": [
      "Quantile 0%: 0.0\n",
      "Quantile 99%: 13.0\n",
      "Shape new DataFrame: (79062, 42)\n"
     ]
    }
   ],
   "source": [
    "df_cleaned = truncate_by_quantile(df_cleaned, 'noParkSpaces', 0, 0.99)"
   ]
  },
  {
   "cell_type": "markdown",
   "metadata": {},
   "source": [
    "#### noRooms"
   ]
  },
  {
   "cell_type": "code",
   "execution_count": 69,
   "metadata": {},
   "outputs": [
    {
     "name": "stdout",
     "output_type": "stream",
     "text": [
      "Quantile 0%: 1.0\n",
      "Quantile 99%: 27.0\n",
      "Shape new DataFrame: (78871, 42)\n"
     ]
    }
   ],
   "source": [
    "df_cleaned = truncate_by_quantile(df_cleaned, 'noRooms', 0, 0.99)"
   ]
  },
  {
   "cell_type": "markdown",
   "metadata": {},
   "source": [
    "#### numberOfFloors"
   ]
  },
  {
   "cell_type": "code",
   "execution_count": 70,
   "metadata": {},
   "outputs": [
    {
     "name": "stdout",
     "output_type": "stream",
     "text": [
      "Quantile 0%: 0.0\n",
      "Quantile 99%: 4.0\n",
      "Shape new DataFrame: (78721, 42)\n"
     ]
    }
   ],
   "source": [
    "df_cleaned = truncate_by_quantile(df_cleaned, 'numberOfFloors', 0, 0.99)"
   ]
  },
  {
   "cell_type": "markdown",
   "metadata": {},
   "source": [
    "#### usableArea"
   ]
  },
  {
   "cell_type": "code",
   "execution_count": 71,
   "metadata": {},
   "outputs": [
    {
     "name": "stdout",
     "output_type": "stream",
     "text": [
      "Quantile 1%: 0.0\n",
      "Quantile 99%: 900.0\n",
      "Shape new DataFrame: (78580, 42)\n"
     ]
    }
   ],
   "source": [
    "df_cleaned = truncate_by_quantile(df_cleaned, 'usableArea', 0.01, 0.99)"
   ]
  },
  {
   "cell_type": "markdown",
   "metadata": {},
   "source": [
    "#### yearConstructed"
   ]
  },
  {
   "cell_type": "code",
   "execution_count": 72,
   "metadata": {},
   "outputs": [
    {
     "name": "stdout",
     "output_type": "stream",
     "text": [
      "Quantile 5%: 1886.0\n",
      "Quantile 99%: 2020.0\n",
      "Shape new DataFrame: (75666, 42)\n"
     ]
    }
   ],
   "source": [
    "df_cleaned = truncate_by_quantile(df_cleaned, 'yearConstructed', 0.05, 0.99)"
   ]
  },
  {
   "cell_type": "markdown",
   "metadata": {},
   "source": [
    "## Categorial Variables\n",
    "understand the frequency\n",
    "\n",
    "* conut\n",
    "* count %\n",
    "\n",
    "Visualization:\n",
    "* Bar chart"
   ]
  },
  {
   "cell_type": "code",
   "execution_count": 73,
   "metadata": {},
   "outputs": [],
   "source": [
    "def univariant_analysis_categorial(df, column_name):\n",
    "    unique = df[column_name].unique()\n",
    "    print(\"Unique Categories: \" + str(unique))\n",
    "    \n",
    "    top = df[column_name].mode()\n",
    "    print(\"Most freq Category: \" + str(top.values[0]))\n",
    "    \n",
    "    relative_nan = (df[column_name].isna().sum())/len(df[column_name])\n",
    "    print(\"Nan's (relative): {}%\".format(relative_nan))\n",
    "    \n",
    "    print(\"Name: \" + column_name + ', dtype: ' + str(df[column_name].dtypes))\n",
    "    \n",
    "    relative_frequency = df[column_name].value_counts(normalize=True)\n",
    "    relative_frequency.plot(kind=\"bar\")\n",
    "    plt.show()"
   ]
  },
  {
   "cell_type": "markdown",
   "metadata": {},
   "source": [
    "### Describe categorial variables"
   ]
  },
  {
   "cell_type": "code",
   "execution_count": 74,
   "metadata": {},
   "outputs": [
    {
     "name": "stdout",
     "output_type": "stream",
     "text": [
      "Unique Categories: ['multi_family_house' 'single_family_house' 'semidetached_house'\n",
      " 'other_real_estate' 'no_information' 'end_terrace_house'\n",
      " 'mid_terrace_house' 'farmhouse' 'bungalow' 'special_real_estate' 'villa'\n",
      " 'castle_manor_house']\n",
      "Most freq Category: single_family_house\n",
      "Nan's (relative): 0.0%\n",
      "Name: buildingType, dtype: object\n"
     ]
    },
    {
     "data": {
      "image/png": "[encoded data removed]",
      "text/plain": [
       "<Figure size 432x288 with 1 Axes>"
      ]
     },
     "metadata": {
      "needs_background": "light"
     },
     "output_type": "display_data"
    },
    {
     "name": "stdout",
     "output_type": "stream",
     "text": [
      "###############################\n",
      "\n",
      "Unique Categories: ['n' 'y']\n",
      "Most freq Category: n\n",
      "Nan's (relative): 0.0%\n",
      "Name: cellar, dtype: object\n"
     ]
    },
    {
     "data": {
      "image/png": "[encoded data removed]",
      "text/plain": [
       "<Figure size 432x288 with 1 Axes>"
      ]
     },
     "metadata": {
      "needs_background": "light"
     },
     "output_type": "display_data"
    },
    {
     "name": "stdout",
     "output_type": "stream",
     "text": [
      "###############################\n",
      "\n",
      "Unique Categories: ['no_information' 'well_kept' 'modernized'\n",
      " 'first_time_use_after_refurbishment' 'first_time_use' 'fully_renovated'\n",
      " 'need_of_renovation' 'refurbished' 'mint_condition' 'negotiable'\n",
      " 'ripe_for_demolition']\n",
      "Most freq Category: no_information\n",
      "Nan's (relative): 0.0%\n",
      "Name: condition, dtype: object\n"
     ]
    },
    {
     "data": {
      "image/png": "[encoded data removed]",
      "text/plain": [
       "<Figure size 432x288 with 1 Axes>"
      ]
     },
     "metadata": {
      "needs_background": "light"
     },
     "output_type": "display_data"
    },
    {
     "name": "stdout",
     "output_type": "stream",
     "text": [
      "###############################\n",
      "\n",
      "Unique Categories: [nan 'E' 'C' 'D' 'A' 'A_PLUS' 'B' 'F' 'G' 'NO_INFORMATION' 'H']\n",
      "Most freq Category: H\n",
      "Nan's (relative): 0.5567231987296827%\n",
      "Name: energyEfficiencyClass, dtype: object\n"
     ]
    },
    {
     "data": {
      "image/png": "[encoded data removed]",
      "text/plain": [
       "<Figure size 432x288 with 1 Axes>"
      ]
     },
     "metadata": {
      "needs_background": "light"
     },
     "output_type": "display_data"
    },
    {
     "name": "stdout",
     "output_type": "stream",
     "text": [
      "###############################\n",
      "\n",
      "Unique Categories: ['gas' 'oil:coal' 'electricity' 'oil' 'coal:wood' 'no_information'\n",
      " 'geothermal' 'gas:wood' 'oil:electricity' 'liquid_gas' 'pellet_heating'\n",
      " 'solar_heating:gas' 'natural_gas_heavy' 'natural_gas_light' 'wood_chips'\n",
      " nan 'coal' 'wood' 'electricity:coal' 'environmental_thermal_energy'\n",
      " 'solar_heating' 'district_heating' 'solar_heating:oil' 'oil:wood'\n",
      " 'gas:electricity' 'solar_heating:oil:wood'\n",
      " 'electricity:environmental_thermal_energy' 'electricity:wood'\n",
      " 'geothermal:gas' 'pellet_heating:electricity' 'wood:wood_chips'\n",
      " 'oil:electricity:wood' 'hydro_energy' 'solar_heating:gas:electricity'\n",
      " 'gas:oil' 'pellet_heating:gas' 'geothermal:solar_heating' 'local_heating'\n",
      " 'pellet_heating:electricity:wood' 'pellet_heating:oil'\n",
      " 'solar_heating:district_heating' 'bio_energy' 'geothermal:electricity'\n",
      " 'district_heating:wood' 'heat_supply'\n",
      " 'combined_heat_and_power_renewable_energy' 'gas:liquid_gas'\n",
      " 'solar_heating:liquid_gas' 'gas:coal:wood' 'coal_coke'\n",
      " 'gas:oil:electricity' 'electricity:bio_energy'\n",
      " 'combined_heat_and_power_fossil_fuels' 'electricity:coal:wood'\n",
      " 'steam_district_heating' 'solar_heating:pellet_heating'\n",
      " 'solar_heating:pellet_heating:oil' 'solar_heating:electricity'\n",
      " 'pellet_heating:wood' 'geothermal:solar_heating:pellet_heating:gas'\n",
      " 'gas:electricity:wood' 'gas:bio_energy'\n",
      " 'gas:environmental_thermal_energy' 'pellet_heating:oil:wood_chips'\n",
      " 'natural_gas_light:wood' 'gas:district_heating'\n",
      " 'solar_heating:environmental_thermal_energy'\n",
      " 'pellet_heating:electricity:coal' 'gas:wood_chips' 'oil:coal:wood'\n",
      " 'district_heating:electricity'\n",
      " 'solar_heating:pellet_heating:gas:wood:bio_energy'\n",
      " 'solar_heating:pellet_heating:electricity'\n",
      " 'solar_heating:gas:oil:electricity'\n",
      " 'combined_heat_and_power_regenerative_energy' 'oil:electricity:coal'\n",
      " 'geothermal:coal:wood' 'solar_heating:gas:wood' 'electricity:liquid_gas'\n",
      " 'wind_energy' 'gas:coal' 'liquid_gas:wood' 'gas:natural_gas_heavy'\n",
      " 'geothermal:wood' 'pellet_heating:coal'\n",
      " 'solar_heating:pellet_heating:gas:wood' 'pellet_heating:gas:wood'\n",
      " 'solar_heating:wood:bio_energy' 'oil:heat_supply' 'gas:oil:wood'\n",
      " 'oil:wood:bio_energy' 'solar_heating:natural_gas_light'\n",
      " 'geothermal:solar_heating:gas' 'solar_heating:pellet_heating:wood'\n",
      " 'pellet_heating:coal:wood' 'solar_heating:heat_supply'\n",
      " 'solar_heating:bio_energy' 'geothermal:bio_energy'\n",
      " 'pellet_heating:electricity:wood:local_heating' 'oil:bio_energy'\n",
      " 'solar_heating:electricity:bio_energy' 'electricity:coal_coke'\n",
      " 'natural_gas_heavy:wood' 'geothermal:district_heating'\n",
      " 'pellet_heating:gas:wood:wood_chips' 'solar_heating:oil:wood_chips'\n",
      " 'oil:district_heating' 'solar_heating:gas:oil'\n",
      " 'local_heating:combined_heat_and_power_fossil_fuels' 'wood:coal_coke'\n",
      " 'solar_heating:wood'\n",
      " 'wind_energy:hydro_energy:environmental_thermal_energy:combined_heat_and_power_fossil_fuels:combined_heat_and_power_renewable_energy:combined_heat_and_power_regenerative_energy:combined_heat_and_power_bio_energy'\n",
      " 'gas:electricity:coal:wood' 'bio_energy:environmental_thermal_energy'\n",
      " 'coal:natural_gas_light' 'geothermal:solar_heating:oil:electricity'\n",
      " 'solar_heating:coal' 'pellet_heating:oil:bio_energy' 'geothermal:oil'\n",
      " 'pellet_heating:district_heating' 'solar_heating:gas:coal'\n",
      " 'solar_heating:gas:bio_energy'\n",
      " 'district_heating:local_heating:combined_heat_and_power_fossil_fuels'\n",
      " 'coal:liquid_gas:wood:coal_coke' 'solar_heating:gas:coal:wood'\n",
      " 'pellet_heating:wood_chips' 'electricity:wood:bio_energy'\n",
      " 'oil:wood_chips' 'electricity:natural_gas_light'\n",
      " 'solar_heating:pellet_heating:natural_gas_light'\n",
      " 'solar_heating:gas:environmental_thermal_energy'\n",
      " 'pellet_heating:oil:wood' 'coal:wood_chips' 'gas:natural_gas_light'\n",
      " 'electricity:heat_supply' 'solar_heating:electricity:wood'\n",
      " 'coal:hydro_energy' 'oil:liquid_gas' 'gas:heat_supply'\n",
      " 'oil:electricity:coal:wood' 'solar_heating:pellet_heating:liquid_gas'\n",
      " 'solar_heating:oil:bio_energy' 'solar_heating:gas:electricity:wood'\n",
      " 'gas:natural_gas_light:natural_gas_heavy' 'pellet_heating:gas:liquid_gas'\n",
      " 'solar_heating:pellet_heating:gas' 'solar_heating:gas:liquid_gas'\n",
      " 'geothermal:solar_heating:pellet_heating:gas:wood'\n",
      " 'geothermal:solar_heating:pellet_heating:gas:liquid_gas'\n",
      " 'solar_heating:pellet_heating:oil:electricity:liquid_gas:wood'\n",
      " 'pellet_heating:oil:electricity:wood'\n",
      " 'electricity:steam_district_heating'\n",
      " 'pellet_heating:gas:electricity:coal' 'oil:natural_gas_light'\n",
      " 'geothermal:solar_heating:electricity' 'coal:liquid_gas:wood'\n",
      " 'wood:bio_energy' 'gas:electricity:coal' 'district_heating:bio_energy'\n",
      " 'pellet_heating:gas:oil' 'solar_heating:oil:electricity'\n",
      " 'electricity:coal:liquid_gas:wood' 'pellet_heating:coal:liquid_gas'\n",
      " 'solar_heating:gas:oil:heat_supply' 'geothermal:electricity:wood'\n",
      " 'natural_gas_light:liquid_gas' 'gas:hydro_energy'\n",
      " 'gas:electricity:bio_energy' 'solar_heating:wood_chips'\n",
      " 'combined_heat_and_power_bio_energy']\n",
      "Most freq Category: gas\n",
      "Nan's (relative): 0.05993207330789758%\n",
      "Name: firingTypes, dtype: object\n"
     ]
    },
    {
     "data": {
      "image/png": "[encoded data removed]",
      "text/plain": [
       "<Figure size 432x288 with 1 Axes>"
      ]
     },
     "metadata": {
      "needs_background": "light"
     },
     "output_type": "display_data"
    },
    {
     "name": "stdout",
     "output_type": "stream",
     "text": [
      "###############################\n",
      "\n",
      "Unique Categories: ['central_heating' 'floor_heating' 'gas_heating' 'stove_heating' nan\n",
      " 'self_contained_central_heating' 'oil_heating' 'wood_pellet_heating'\n",
      " 'heat_pump' 'district_heating' 'no_information'\n",
      " 'combined_heat_and_power_plant' 'electric_heating' 'night_storage_heater'\n",
      " 'solar_heating']\n",
      "Most freq Category: central_heating\n",
      "Nan's (relative): 0.15221754184769423%\n",
      "Name: heatingType, dtype: object\n"
     ]
    },
    {
     "data": {
      "image/png": "[encoded data removed]",
      "text/plain": [
       "<Figure size 432x288 with 1 Axes>"
      ]
     },
     "metadata": {
      "needs_background": "light"
     },
     "output_type": "display_data"
    },
    {
     "name": "stdout",
     "output_type": "stream",
     "text": [
      "###############################\n",
      "\n",
      "Unique Categories: ['simple' 'no_information' 'sophisticated' 'normal' 'luxury']\n",
      "Most freq Category: no_information\n",
      "Nan's (relative): 0.0%\n",
      "Name: interiorQual, dtype: object\n"
     ]
    },
    {
     "data": {
      "image/png": "[encoded data removed]",
      "text/plain": [
       "<Figure size 432x288 with 1 Axes>"
      ]
     },
     "metadata": {
      "needs_background": "light"
     },
     "output_type": "display_data"
    },
    {
     "name": "stdout",
     "output_type": "stream",
     "text": [
      "###############################\n",
      "\n",
      "Unique Categories: ['n' 'y']\n",
      "Most freq Category: n\n",
      "Nan's (relative): 0.0%\n",
      "Name: rented, dtype: object\n"
     ]
    },
    {
     "data": {
      "image/png": "[encoded data removed]",
      "text/plain": [
       "<Figure size 432x288 with 1 Axes>"
      ]
     },
     "metadata": {
      "needs_background": "light"
     },
     "output_type": "display_data"
    },
    {
     "name": "stdout",
     "output_type": "stream",
     "text": [
      "###############################\n",
      "\n"
     ]
    }
   ],
   "source": [
    "for column_name in categorial_columns:\n",
    "    univariant_analysis_categorial(df_raw, column_name)\n",
    "    print('###############################\\n')"
   ]
  },
  {
   "cell_type": "markdown",
   "metadata": {},
   "source": [
    "### Clean categorial variables"
   ]
  },
  {
   "cell_type": "code",
   "execution_count": 75,
   "metadata": {},
   "outputs": [],
   "source": [
    "def categorial_str_to_int(df, column_name, dict_identifier, other = True):\n",
    "    if (df[column_name].dtype == 'int64'):\n",
    "        return df\n",
    "    \n",
    "    for key in dict_identifier:\n",
    "        # 'other' has to be the last index\n",
    "        if (key == (len(dict_identifier)-1) and other == True):\n",
    "            df[column_name][(df[column_name].apply(lambda x: isinstance(x, str)))] = key\n",
    "        else:\n",
    "            if isinstance(dict_identifier[key], list):\n",
    "                for identifier in dict_identifier[key]:\n",
    "                    df[column_name][(df[column_name] == identifier)] = key\n",
    "            else:\n",
    "                df[column_name][(df[column_name] == dict_identifier[key])] = key\n",
    "    \n",
    "    df[column_name][df[column_name].isnull()] = 0\n",
    "    df[column_name] = df[column_name].astype('int64')\n",
    "        \n",
    "    return df"
   ]
  },
  {
   "cell_type": "code",
   "execution_count": 76,
   "metadata": {},
   "outputs": [],
   "source": [
    "# replace n or y with 0 or 1\n",
    "df_cleaned.cellar = df_cleaned.cellar.replace(\"n\",0).replace(\"y\",1)\n",
    "df_cleaned.rented = df_cleaned.rented.replace(\"n\",0).replace(\"y\",1)"
   ]
  },
  {
   "cell_type": "markdown",
   "metadata": {},
   "source": [
    "#### buildingType"
   ]
  },
  {
   "cell_type": "code",
   "execution_count": 77,
   "metadata": {},
   "outputs": [
    {
     "name": "stdout",
     "output_type": "stream",
     "text": [
      "single_family_house    0.428515\n",
      "multi_family_house     0.157045\n",
      "semidetached_house     0.124851\n",
      "no_information         0.062049\n",
      "other_real_estate      0.058745\n",
      "mid_terrace_house      0.054304\n",
      "bungalow               0.036384\n",
      "end_terrace_house      0.035974\n",
      "villa                  0.017445\n",
      "special_real_estate    0.012648\n",
      "farmhouse              0.011934\n",
      "castle_manor_house     0.000106\n",
      "Name: buildingType, dtype: float64\n"
     ]
    }
   ],
   "source": [
    "relative_frequency = df_cleaned['buildingType'].value_counts(normalize=True)\n",
    "print(relative_frequency)"
   ]
  },
  {
   "cell_type": "markdown",
   "metadata": {},
   "source": [
    "* 0: \"no_information\"\n",
    "* 1: \"single_family_house\"\n",
    "* 2: \"multi_family_house\"\n",
    "* 3: \"semidetached_house\" (Doppelhaus)\n",
    "* 4: \"mid_terrace_house\"  (Reihenmittelhaus), \"end_terrace_house\" (Reihenendhaus)\n",
    "* 5: \"bungalow\"\n",
    "* 6: \"other\""
   ]
  },
  {
   "cell_type": "code",
   "execution_count": 78,
   "metadata": {
    "scrolled": true
   },
   "outputs": [],
   "source": [
    "dict_buildingType = {0: \"no_information\",\n",
    "                      1: \"single_family_house\", \n",
    "                      2: \"multi_family_house\", \n",
    "                      3: \"semidetached_house\", \n",
    "                      4: [\"mid_terrace_house\", \"end_terrace_house\"],\n",
    "                      5: \"bungalow\",\n",
    "                      6: \"other\"}\n",
    "df_cleaned = categorial_str_to_int(df_cleaned, 'buildingType', dict_buildingType)"
   ]
  },
  {
   "cell_type": "markdown",
   "metadata": {},
   "source": [
    "#### condition"
   ]
  },
  {
   "cell_type": "code",
   "execution_count": 79,
   "metadata": {},
   "outputs": [
    {
     "name": "stdout",
     "output_type": "stream",
     "text": [
      "no_information                        0.335818\n",
      "well_kept                             0.299633\n",
      "first_time_use                        0.096107\n",
      "need_of_renovation                    0.082970\n",
      "mint_condition                        0.066120\n",
      "modernized                            0.058401\n",
      "refurbished                           0.029723\n",
      "fully_renovated                       0.022295\n",
      "negotiable                            0.004137\n",
      "first_time_use_after_refurbishment    0.004071\n",
      "ripe_for_demolition                   0.000727\n",
      "Name: condition, dtype: float64\n"
     ]
    }
   ],
   "source": [
    "relative_frequency = df_cleaned['condition'].value_counts(normalize=True)\n",
    "print(relative_frequency)"
   ]
  },
  {
   "cell_type": "markdown",
   "metadata": {},
   "source": [
    "* 0: \"no_information\"\n",
    "* 1: \"well_kept\"\n",
    "* 2: \"first_time_use\"\n",
    "* 3: \"refurbished\", \"fully_renovated\", \"mint_condition\", \"first_time_use_after_refurbishment\" (Promblem: mint_condition could be to optimistic)\n",
    "* 4: \"negotiable\", \"need_of_renovation\"\n",
    "* 5: \"ripe_for_demolition\" and other"
   ]
  },
  {
   "cell_type": "code",
   "execution_count": 80,
   "metadata": {},
   "outputs": [],
   "source": [
    "dict_condition = {0: \"no_information\", \n",
    "                     1: \"well_kept\", \n",
    "                     2: \"firt_time_use\", \n",
    "                     3: [\"refurbished\", \"fully_renovated\", \"mint_condition\", \"first_time_use_after_refurbishment\"],\n",
    "                     4: [\"negotiable\", \"need_of_renovation\"],\n",
    "                     5: \"ripe_for_demolition\"}\n",
    "df_cleaned = categorial_str_to_int(df_cleaned, 'condition', dict_condition)"
   ]
  },
  {
   "cell_type": "markdown",
   "metadata": {},
   "source": [
    "#### energyEfficiencyClass"
   ]
  },
  {
   "cell_type": "code",
   "execution_count": 81,
   "metadata": {},
   "outputs": [
    {
     "name": "stdout",
     "output_type": "stream",
     "text": [
      "F                 0.142440\n",
      "D                 0.141364\n",
      "H                 0.136803\n",
      "E                 0.136208\n",
      "G                 0.115556\n",
      "C                 0.100994\n",
      "NO_INFORMATION    0.064534\n",
      "B                 0.064336\n",
      "A                 0.050455\n",
      "A_PLUS            0.047310\n",
      "Name: energyEfficiencyClass, dtype: float64\n"
     ]
    }
   ],
   "source": [
    "relative_frequency = df_cleaned['energyEfficiencyClass'].value_counts(normalize=True)\n",
    "print(relative_frequency)"
   ]
  },
  {
   "cell_type": "markdown",
   "metadata": {},
   "source": [
    "* 0: \"NO_INFORMATION\"\n",
    "* 1: \"A_PLUS\"\n",
    "* 2: \"A\"\n",
    "* 3: \"B\"\n",
    "* 4: \"C\"\n",
    "* 5: \"D\"\n",
    "* 6: \"E\"\n",
    "* 7: \"F\"\n",
    "* 8: \"G\"\n",
    "* 9: \"H\""
   ]
  },
  {
   "cell_type": "code",
   "execution_count": 82,
   "metadata": {},
   "outputs": [],
   "source": [
    "dict_energyEfficiencyClass = {0: \"NO_INFORMATION\", \n",
    "                              1: \"A_PLUS\", \n",
    "                              2: \"A\", \n",
    "                              3: \"B\", \n",
    "                              4: \"C\", \n",
    "                              5: \"D\", \n",
    "                              6: \"E\", \n",
    "                              7: \"F\", \n",
    "                              8: \"G\", \n",
    "                              9: \"H\"}\n",
    "df_raw = categorial_str_to_int(df_cleaned, 'energyEfficiencyClass', dict_energyEfficiencyClass)"
   ]
  },
  {
   "cell_type": "markdown",
   "metadata": {},
   "source": [
    "#### firingTypes"
   ]
  },
  {
   "cell_type": "code",
   "execution_count": 83,
   "metadata": {},
   "outputs": [
    {
     "name": "stdout",
     "output_type": "stream",
     "text": [
      "gas                                              0.401206\n",
      "oil                                              0.228565\n",
      "no_information                                   0.190534\n",
      "electricity                                      0.045828\n",
      "geothermal                                       0.017249\n",
      "natural_gas_light                                0.016576\n",
      "district_heating                                 0.014023\n",
      "solar_heating:gas                                0.011513\n",
      "environmental_thermal_energy                     0.011036\n",
      "pellet_heating                                   0.009157\n",
      "liquid_gas                                       0.007110\n",
      "wood                                             0.006703\n",
      "oil:wood                                         0.003674\n",
      "solar_heating                                    0.003576\n",
      "gas:wood                                         0.003183\n",
      "natural_gas_heavy                                0.002945\n",
      "solar_heating:oil                                0.002594\n",
      "gas:oil                                          0.002089\n",
      "gas:electricity                                  0.002061\n",
      "local_heating                                    0.001781\n",
      "oil:electricity                                  0.001585\n",
      "coal                                             0.001529\n",
      "electricity:wood                                 0.001416\n",
      "bio_energy                                       0.001360\n",
      "solar_heating:pellet_heating                     0.000883\n",
      "heat_supply                                      0.000855\n",
      "wood_chips                                       0.000701\n",
      "coal:wood                                        0.000603\n",
      "gas:district_heating                             0.000393\n",
      "pellet_heating:gas                               0.000365\n",
      "                                                   ...   \n",
      "coal:wood_chips                                  0.000014\n",
      "gas:electricity:coal                             0.000014\n",
      "gas:hydro_energy                                 0.000014\n",
      "pellet_heating:oil:bio_energy                    0.000014\n",
      "solar_heating:wood:bio_energy                    0.000014\n",
      "bio_energy:environmental_thermal_energy          0.000014\n",
      "geothermal:electricity:wood                      0.000014\n",
      "solar_heating:pellet_heating:gas:wood            0.000014\n",
      "coal:liquid_gas:wood:coal_coke                   0.000014\n",
      "pellet_heating:gas:wood:wood_chips               0.000014\n",
      "solar_heating:gas:oil:electricity                0.000014\n",
      "solar_heating:gas:oil                            0.000014\n",
      "natural_gas_heavy:wood                           0.000014\n",
      "oil:heat_supply                                  0.000014\n",
      "geothermal:solar_heating:electricity             0.000014\n",
      "gas:natural_gas_light:natural_gas_heavy          0.000014\n",
      "geothermal:oil                                   0.000014\n",
      "solar_heating:pellet_heating:liquid_gas          0.000014\n",
      "pellet_heating:gas:oil                           0.000014\n",
      "electricity:steam_district_heating               0.000014\n",
      "pellet_heating:electricity:wood:local_heating    0.000014\n",
      "oil:wood:bio_energy                              0.000014\n",
      "solar_heating:gas:oil:heat_supply                0.000014\n",
      "pellet_heating:gas:electricity:coal              0.000014\n",
      "oil:electricity:coal                             0.000014\n",
      "solar_heating:gas:coal                           0.000014\n",
      "wood:coal_coke                                   0.000014\n",
      "geothermal:coal:wood                             0.000014\n",
      "pellet_heating:gas:liquid_gas                    0.000014\n",
      "pellet_heating:electricity:coal                  0.000014\n",
      "Name: firingTypes, Length: 151, dtype: float64\n"
     ]
    }
   ],
   "source": [
    "relative_frequency = df_cleaned['firingTypes'].value_counts(normalize=True)\n",
    "print(relative_frequency)"
   ]
  },
  {
   "cell_type": "markdown",
   "metadata": {},
   "source": [
    "* 0: \"no_information\"\n",
    "* 1: \"gas\"\n",
    "* 2: \"oil\"\n",
    "* 3: \"electricity\"\n",
    "* 4: \"natural_gas_light\"\n",
    "* 5: \"other\""
   ]
  },
  {
   "cell_type": "code",
   "execution_count": 84,
   "metadata": {},
   "outputs": [],
   "source": [
    "dict_firingTypes = {0: \"no_information\",\n",
    "                    1: \"gas\", \n",
    "                    2: \"oil\", \n",
    "                    3: \"electricity\", \n",
    "                    4: \"natural_gas_light\", \n",
    "                    5: \"other\" }\n",
    "df_cleaned = categorial_str_to_int(df_cleaned, 'firingTypes', dict_firingTypes)"
   ]
  },
  {
   "cell_type": "markdown",
   "metadata": {},
   "source": [
    "#### heatingType"
   ]
  },
  {
   "cell_type": "code",
   "execution_count": 85,
   "metadata": {},
   "outputs": [
    {
     "name": "stdout",
     "output_type": "stream",
     "text": [
      "central_heating                   0.553319\n",
      "gas_heating                       0.102456\n",
      "floor_heating                     0.095853\n",
      "no_information                    0.060588\n",
      "oil_heating                       0.056084\n",
      "heat_pump                         0.043384\n",
      "self_contained_central_heating    0.027391\n",
      "stove_heating                     0.024005\n",
      "district_heating                  0.010785\n",
      "electric_heating                  0.009544\n",
      "night_storage_heater              0.007568\n",
      "wood_pellet_heating               0.004243\n",
      "combined_heat_and_power_plant     0.003217\n",
      "solar_heating                     0.001563\n",
      "Name: heatingType, dtype: float64\n"
     ]
    }
   ],
   "source": [
    "relative_frequency = df_cleaned['heatingType'].value_counts(normalize=True)\n",
    "print(relative_frequency)"
   ]
  },
  {
   "cell_type": "markdown",
   "metadata": {},
   "source": [
    "* 0: \"no_information\"\n",
    "* 1: \"central_heating\"\n",
    "* 2: \"gas_heating\"\n",
    "* 3: \"oil_heating\"\n",
    "* 4: \"heat_pump\"\n",
    "* 5: \"stove_heating\"\n",
    "* 6: \"self_contained_central_heating\"\n",
    "* 7: \"other\""
   ]
  },
  {
   "cell_type": "code",
   "execution_count": 86,
   "metadata": {},
   "outputs": [],
   "source": [
    "dict_heatingType = {0: \"no_information\", \n",
    "                    1: \"central_heating\", \n",
    "                    2: \"gas_heating\", \n",
    "                    3: \"oil_heating\", \n",
    "                    4: \"heat_pump\", \n",
    "                    5: \"stove_heating\", \n",
    "                    6: \"self_contained_central_heating\", \n",
    "                    7: \"other\"}\n",
    "df_cleaned = categorial_str_to_int(df_cleaned, 'heatingType', dict_heatingType)"
   ]
  },
  {
   "cell_type": "markdown",
   "metadata": {},
   "source": [
    "#### interiorQual"
   ]
  },
  {
   "cell_type": "code",
   "execution_count": 87,
   "metadata": {},
   "outputs": [
    {
     "name": "stdout",
     "output_type": "stream",
     "text": [
      "no_information    0.499035\n",
      "sophisticated     0.225042\n",
      "normal            0.216464\n",
      "simple            0.040732\n",
      "luxury            0.018727\n",
      "Name: interiorQual, dtype: float64\n"
     ]
    }
   ],
   "source": [
    "relative_frequency = df_cleaned['interiorQual'].value_counts(normalize=True)\n",
    "print(relative_frequency)"
   ]
  },
  {
   "cell_type": "markdown",
   "metadata": {},
   "source": [
    "* 0: \"no_information\"\n",
    "* 1: \"sophisticated\"\n",
    "* 2: \"normal\", \"simple\"\n",
    "* 3: \"luxury\""
   ]
  },
  {
   "cell_type": "code",
   "execution_count": 88,
   "metadata": {},
   "outputs": [],
   "source": [
    "dict_interiorQual = {0: \"no_information\", \n",
    "                     1: \"sophisticated\", \n",
    "                     2: [\"normal\", \"simple\"],\n",
    "                     3: \"luxury\"}\n",
    "df_cleaned = categorial_str_to_int(df_cleaned, 'interiorQual', dict_interiorQual)"
   ]
  },
  {
   "cell_type": "markdown",
   "metadata": {},
   "source": [
    "## Take another look at cleaned univariant analysis"
   ]
  },
  {
   "cell_type": "code",
   "execution_count": 89,
   "metadata": {},
   "outputs": [
    {
     "name": "stdout",
     "output_type": "stream",
     "text": [
      "Unique Categories: [2 1 3 6 4 0 5]\n",
      "Most freq Category: 1\n",
      "Nan's (relative): 0.0%\n",
      "Name: buildingType, dtype: int64\n"
     ]
    },
    {
     "data": {
      "image/png": "[encoded data removed]",
      "text/plain": [
       "<Figure size 432x288 with 1 Axes>"
      ]
     },
     "metadata": {
      "needs_background": "light"
     },
     "output_type": "display_data"
    },
    {
     "name": "stdout",
     "output_type": "stream",
     "text": [
      "###############################\n",
      "\n",
      "Unique Categories: [0 1]\n",
      "Most freq Category: 0\n",
      "Nan's (relative): 0.0%\n",
      "Name: cellar, dtype: int64\n"
     ]
    },
    {
     "data": {
      "image/png": "[encoded data removed]",
      "text/plain": [
       "<Figure size 432x288 with 1 Axes>"
      ]
     },
     "metadata": {
      "needs_background": "light"
     },
     "output_type": "display_data"
    },
    {
     "name": "stdout",
     "output_type": "stream",
     "text": [
      "###############################\n",
      "\n",
      "Unique Categories: [0 1 5 3 4]\n",
      "Most freq Category: 0\n",
      "Nan's (relative): 0.0%\n",
      "Name: condition, dtype: int64\n"
     ]
    },
    {
     "data": {
      "image/png": "[encoded data removed]",
      "text/plain": [
       "<Figure size 432x288 with 1 Axes>"
      ]
     },
     "metadata": {
      "needs_background": "light"
     },
     "output_type": "display_data"
    },
    {
     "name": "stdout",
     "output_type": "stream",
     "text": [
      "###############################\n",
      "\n",
      "Unique Categories: [0 6 4 5 2 1 3 7 8 9]\n",
      "Most freq Category: 0\n",
      "Nan's (relative): 0.0%\n",
      "Name: energyEfficiencyClass, dtype: int64\n"
     ]
    },
    {
     "data": {
      "image/png": "[encoded data removed]",
      "text/plain": [
       "<Figure size 432x288 with 1 Axes>"
      ]
     },
     "metadata": {
      "needs_background": "light"
     },
     "output_type": "display_data"
    },
    {
     "name": "stdout",
     "output_type": "stream",
     "text": [
      "###############################\n",
      "\n",
      "Unique Categories: [1 5 3 0 2 4]\n",
      "Most freq Category: 1\n",
      "Nan's (relative): 0.0%\n",
      "Name: firingTypes, dtype: int64\n"
     ]
    },
    {
     "data": {
      "image/png": "[encoded data removed]",
      "text/plain": [
       "<Figure size 432x288 with 1 Axes>"
      ]
     },
     "metadata": {
      "needs_background": "light"
     },
     "output_type": "display_data"
    },
    {
     "name": "stdout",
     "output_type": "stream",
     "text": [
      "###############################\n",
      "\n",
      "Unique Categories: [1 7 2 5 6 0 3 4]\n",
      "Most freq Category: 1\n",
      "Nan's (relative): 0.0%\n",
      "Name: heatingType, dtype: int64\n"
     ]
    },
    {
     "data": {
      "image/png": "[encoded data removed]",
      "text/plain": [
       "<Figure size 432x288 with 1 Axes>"
      ]
     },
     "metadata": {
      "needs_background": "light"
     },
     "output_type": "display_data"
    },
    {
     "name": "stdout",
     "output_type": "stream",
     "text": [
      "###############################\n",
      "\n",
      "Unique Categories: [2 0 1 3]\n",
      "Most freq Category: 0\n",
      "Nan's (relative): 0.0%\n",
      "Name: interiorQual, dtype: int64\n"
     ]
    },
    {
     "data": {
      "image/png": "[encoded data removed]",
      "text/plain": [
       "<Figure size 432x288 with 1 Axes>"
      ]
     },
     "metadata": {
      "needs_background": "light"
     },
     "output_type": "display_data"
    },
    {
     "name": "stdout",
     "output_type": "stream",
     "text": [
      "###############################\n",
      "\n",
      "Unique Categories: [0 1]\n",
      "Most freq Category: 0\n",
      "Nan's (relative): 0.0%\n",
      "Name: rented, dtype: int64\n"
     ]
    },
    {
     "data": {
      "image/png": "[encoded data removed]",
      "text/plain": [
       "<Figure size 432x288 with 1 Axes>"
      ]
     },
     "metadata": {
      "needs_background": "light"
     },
     "output_type": "display_data"
    },
    {
     "name": "stdout",
     "output_type": "stream",
     "text": [
      "###############################\n",
      "\n"
     ]
    }
   ],
   "source": [
    "for column_name in categorial_columns:\n",
    "    univariant_analysis_categorial(df_cleaned, column_name)\n",
    "    print('###############################\\n')"
   ]
  },
  {
   "cell_type": "markdown",
   "metadata": {},
   "source": [
    "# Save Cleaned Dataset"
   ]
  },
  {
   "cell_type": "code",
   "execution_count": 90,
   "metadata": {},
   "outputs": [],
   "source": [
    "df_cleaned.to_csv(path+'final_cleaned_dataset.csv', index=False)"
   ]
  },
  {
   "cell_type": "code",
   "execution_count": null,
   "metadata": {},
   "outputs": [],
   "source": []
  }
 ],
 "metadata": {
  "kernelspec": {
   "display_name": "Python 3",
   "language": "python",
   "name": "python3"
  },
  "language_info": {
   "codemirror_mode": {
    "name": "ipython",
    "version": 3
   },
   "file_extension": ".py",
   "mimetype": "text/x-python",
   "name": "python",
   "nbconvert_exporter": "python",
   "pygments_lexer": "ipython3",
   "version": "3.7.3"
  },
  "toc": {
   "base_numbering": 1,
   "nav_menu": {},
   "number_sections": true,
   "sideBar": true,
   "skip_h1_title": false,
   "title_cell": "Table of Contents",
   "title_sidebar": "Contents",
   "toc_cell": false,
   "toc_position": {
    "height": "calc(100% - 180px)",
    "left": "10px",
    "top": "150px",
    "width": "384px"
   },
   "toc_section_display": true,
   "toc_window_display": true
  }
 },
 "nbformat": 4,
 "nbformat_minor": 2
}
